{
 "cells": [
  {
   "cell_type": "markdown",
   "id": "e3720568",
   "metadata": {},
   "source": [
    "# Predictive Modeling Project\n",
    "\n",
    "## Introduction \n",
    "\n",
    "Our dataset contains data on cars, including various details about a particular car, and the price of each particular car. [Click here](https://archive.ics.uci.edu/ml/machine-learning-databases/autos/imports-85.data?utm_medium=Exinfluencer&utm_source=Exinfluencer&utm_content=000026UJ&utm_term=10006555&utm_id=NA-SkillsNetwork-Channel-SkillsNetworkCoursesIBMDeveloperSkillsNetworkDA0101ENSkillsNetwork20235326-2021-01-01) to view the data. \n",
    "\n",
    "The purpose of this project is to determine the factors that have the greatest impact on the price of a car, and to build and train a model to predict prices for cars with certain specifications. "
   ]
  },
  {
   "cell_type": "markdown",
   "id": "b63a7ea3",
   "metadata": {},
   "source": [
    "<h2>Table of Contents</h2>\n",
    "\n",
    "<div class=\"alert alert-block alert-info\" style=\"margin-top: 20px\">\n",
    "<ul>\n",
    "    <li><a href=\"#set_up_our_environment\">Setting Up Our Environment</a></li>\n",
    "    <li><a href=\"#import_the_data\">Import the Data</a></li>\n",
    "    <li><a href=\"#data_wrangling\">Data Wrangling</a></li>\n",
    "    <li><a href=\"#data_analysis\">Data Analysis</a></li>\n",
    "        <ul>\n",
    "            <li><a href=\"#eda\">Phase 1: Exploratory Data Analysis</a></li>\n",
    "            <li><a href=\"#model_building\">Phase 2: Model Development and Evaluation</a></li>\n",
    "        </ul>\n",
    "    <li><a href=\"#conclusion\">Conclusion</a></li>\n",
    "</ul>\n",
    "\n",
    "</div>\n",
    "\n",
    "<hr>"
   ]
  },
  {
   "cell_type": "markdown",
   "id": "4fb8030d",
   "metadata": {},
   "source": [
    "<h2> <a id=\"set_up_our_environment\" >Set Up Our Environment</a></h2>\n",
    "\n",
    "Loading all of the necessary libraries for this project. "
   ]
  },
  {
   "cell_type": "code",
   "execution_count": 2,
   "id": "779ca648",
   "metadata": {},
   "outputs": [],
   "source": [
    "import pandas as pd\n",
    "import numpy as np\n",
    "\n",
    "from sklearn.linear_model import LinearRegression\n",
    "from sklearn.preprocessing import PolynomialFeatures\n",
    "from sklearn.preprocessing import StandardScaler\n",
    "from sklearn.pipeline import Pipeline\n",
    "from sklearn.metrics import mean_squared_error\n",
    "from sklearn.metrics import r2_score\n",
    "\n",
    "from sklearn.model_selection import train_test_split\n",
    "from sklearn.model_selection import cross_val_score\n",
    "from sklearn.model_selection import cross_val_predict\n",
    "\n",
    "%matplotlib inline\n",
    "import matplotlib as mpl \n",
    "import matplotlib.pyplot as plt\n",
    "import seaborn as sns"
   ]
  },
  {
   "cell_type": "markdown",
   "id": "139f2496",
   "metadata": {},
   "source": [
    "<h2> <a id=\"import_the_data\" >Import the Data</a></h2>\n",
    "\n",
    "Import the data contained in a csv file into a pandas dataframe."
   ]
  },
  {
   "cell_type": "code",
   "execution_count": 3,
   "id": "d7e4d0d3",
   "metadata": {},
   "outputs": [
    {
     "data": {
      "text/html": [
       "<div>\n",
       "<style scoped>\n",
       "    .dataframe tbody tr th:only-of-type {\n",
       "        vertical-align: middle;\n",
       "    }\n",
       "\n",
       "    .dataframe tbody tr th {\n",
       "        vertical-align: top;\n",
       "    }\n",
       "\n",
       "    .dataframe thead th {\n",
       "        text-align: right;\n",
       "    }\n",
       "</style>\n",
       "<table border=\"1\" class=\"dataframe\">\n",
       "  <thead>\n",
       "    <tr style=\"text-align: right;\">\n",
       "      <th></th>\n",
       "      <th>symboling</th>\n",
       "      <th>normalized-losses</th>\n",
       "      <th>make</th>\n",
       "      <th>fuel-type</th>\n",
       "      <th>aspiration</th>\n",
       "      <th>num-of-doors</th>\n",
       "      <th>body-style</th>\n",
       "      <th>drive-wheels</th>\n",
       "      <th>engine-location</th>\n",
       "      <th>wheel-base</th>\n",
       "      <th>...</th>\n",
       "      <th>engine-size</th>\n",
       "      <th>fuel-system</th>\n",
       "      <th>bore</th>\n",
       "      <th>stroke</th>\n",
       "      <th>compression-ratio</th>\n",
       "      <th>horsepower</th>\n",
       "      <th>peak-rpm</th>\n",
       "      <th>city-mpg</th>\n",
       "      <th>highway-mpg</th>\n",
       "      <th>price</th>\n",
       "    </tr>\n",
       "  </thead>\n",
       "  <tbody>\n",
       "    <tr>\n",
       "      <th>0</th>\n",
       "      <td>3</td>\n",
       "      <td>?</td>\n",
       "      <td>alfa-romero</td>\n",
       "      <td>gas</td>\n",
       "      <td>std</td>\n",
       "      <td>two</td>\n",
       "      <td>convertible</td>\n",
       "      <td>rwd</td>\n",
       "      <td>front</td>\n",
       "      <td>88.6</td>\n",
       "      <td>...</td>\n",
       "      <td>130</td>\n",
       "      <td>mpfi</td>\n",
       "      <td>3.47</td>\n",
       "      <td>2.68</td>\n",
       "      <td>9.0</td>\n",
       "      <td>111</td>\n",
       "      <td>5000</td>\n",
       "      <td>21</td>\n",
       "      <td>27</td>\n",
       "      <td>13495</td>\n",
       "    </tr>\n",
       "    <tr>\n",
       "      <th>1</th>\n",
       "      <td>3</td>\n",
       "      <td>?</td>\n",
       "      <td>alfa-romero</td>\n",
       "      <td>gas</td>\n",
       "      <td>std</td>\n",
       "      <td>two</td>\n",
       "      <td>convertible</td>\n",
       "      <td>rwd</td>\n",
       "      <td>front</td>\n",
       "      <td>88.6</td>\n",
       "      <td>...</td>\n",
       "      <td>130</td>\n",
       "      <td>mpfi</td>\n",
       "      <td>3.47</td>\n",
       "      <td>2.68</td>\n",
       "      <td>9.0</td>\n",
       "      <td>111</td>\n",
       "      <td>5000</td>\n",
       "      <td>21</td>\n",
       "      <td>27</td>\n",
       "      <td>16500</td>\n",
       "    </tr>\n",
       "    <tr>\n",
       "      <th>2</th>\n",
       "      <td>1</td>\n",
       "      <td>?</td>\n",
       "      <td>alfa-romero</td>\n",
       "      <td>gas</td>\n",
       "      <td>std</td>\n",
       "      <td>two</td>\n",
       "      <td>hatchback</td>\n",
       "      <td>rwd</td>\n",
       "      <td>front</td>\n",
       "      <td>94.5</td>\n",
       "      <td>...</td>\n",
       "      <td>152</td>\n",
       "      <td>mpfi</td>\n",
       "      <td>2.68</td>\n",
       "      <td>3.47</td>\n",
       "      <td>9.0</td>\n",
       "      <td>154</td>\n",
       "      <td>5000</td>\n",
       "      <td>19</td>\n",
       "      <td>26</td>\n",
       "      <td>16500</td>\n",
       "    </tr>\n",
       "    <tr>\n",
       "      <th>3</th>\n",
       "      <td>2</td>\n",
       "      <td>164</td>\n",
       "      <td>audi</td>\n",
       "      <td>gas</td>\n",
       "      <td>std</td>\n",
       "      <td>four</td>\n",
       "      <td>sedan</td>\n",
       "      <td>fwd</td>\n",
       "      <td>front</td>\n",
       "      <td>99.8</td>\n",
       "      <td>...</td>\n",
       "      <td>109</td>\n",
       "      <td>mpfi</td>\n",
       "      <td>3.19</td>\n",
       "      <td>3.40</td>\n",
       "      <td>10.0</td>\n",
       "      <td>102</td>\n",
       "      <td>5500</td>\n",
       "      <td>24</td>\n",
       "      <td>30</td>\n",
       "      <td>13950</td>\n",
       "    </tr>\n",
       "    <tr>\n",
       "      <th>4</th>\n",
       "      <td>2</td>\n",
       "      <td>164</td>\n",
       "      <td>audi</td>\n",
       "      <td>gas</td>\n",
       "      <td>std</td>\n",
       "      <td>four</td>\n",
       "      <td>sedan</td>\n",
       "      <td>4wd</td>\n",
       "      <td>front</td>\n",
       "      <td>99.4</td>\n",
       "      <td>...</td>\n",
       "      <td>136</td>\n",
       "      <td>mpfi</td>\n",
       "      <td>3.19</td>\n",
       "      <td>3.40</td>\n",
       "      <td>8.0</td>\n",
       "      <td>115</td>\n",
       "      <td>5500</td>\n",
       "      <td>18</td>\n",
       "      <td>22</td>\n",
       "      <td>17450</td>\n",
       "    </tr>\n",
       "  </tbody>\n",
       "</table>\n",
       "<p>5 rows × 26 columns</p>\n",
       "</div>"
      ],
      "text/plain": [
       "   symboling normalized-losses         make fuel-type aspiration num-of-doors  \\\n",
       "0          3                 ?  alfa-romero       gas        std          two   \n",
       "1          3                 ?  alfa-romero       gas        std          two   \n",
       "2          1                 ?  alfa-romero       gas        std          two   \n",
       "3          2               164         audi       gas        std         four   \n",
       "4          2               164         audi       gas        std         four   \n",
       "\n",
       "    body-style drive-wheels engine-location  wheel-base  ...  engine-size  \\\n",
       "0  convertible          rwd           front        88.6  ...          130   \n",
       "1  convertible          rwd           front        88.6  ...          130   \n",
       "2    hatchback          rwd           front        94.5  ...          152   \n",
       "3        sedan          fwd           front        99.8  ...          109   \n",
       "4        sedan          4wd           front        99.4  ...          136   \n",
       "\n",
       "   fuel-system  bore  stroke compression-ratio horsepower  peak-rpm city-mpg  \\\n",
       "0         mpfi  3.47    2.68               9.0        111      5000       21   \n",
       "1         mpfi  3.47    2.68               9.0        111      5000       21   \n",
       "2         mpfi  2.68    3.47               9.0        154      5000       19   \n",
       "3         mpfi  3.19    3.40              10.0        102      5500       24   \n",
       "4         mpfi  3.19    3.40               8.0        115      5500       18   \n",
       "\n",
       "  highway-mpg  price  \n",
       "0          27  13495  \n",
       "1          27  16500  \n",
       "2          26  16500  \n",
       "3          30  13950  \n",
       "4          22  17450  \n",
       "\n",
       "[5 rows x 26 columns]"
      ]
     },
     "execution_count": 3,
     "metadata": {},
     "output_type": "execute_result"
    }
   ],
   "source": [
    "headers = [\"symboling\",\"normalized-losses\",\"make\",\"fuel-type\",\"aspiration\", \"num-of-doors\",\"body-style\",\n",
    "         \"drive-wheels\",\"engine-location\",\"wheel-base\", \"length\",\"width\",\"height\",\"curb-weight\",\"engine-type\",\n",
    "         \"num-of-cylinders\", \"engine-size\",\"fuel-system\",\"bore\",\"stroke\",\"compression-ratio\",\"horsepower\",\n",
    "         \"peak-rpm\",\"city-mpg\",\"highway-mpg\",\"price\"]\n",
    "df = pd.read_csv('auto.csv', names = headers)\n",
    "df.head()"
   ]
  },
  {
   "cell_type": "markdown",
   "id": "07d9fd89",
   "metadata": {},
   "source": [
    "<h2> <a id=\"data_wrangling\" >Data Wrangling</a> </h2>\n",
    "\n",
    "In order to clean the data, we need to do the following things: \n",
    "1. Remove duplicates\n",
    "2. Identify and handle missing data\n",
    "3. Correct data formats\n",
    "\n",
    "\n",
    "We can then export the clean data to a csv file, so that we can refer to it easily in other projects. "
   ]
  },
  {
   "cell_type": "markdown",
   "id": "7b04f0d4",
   "metadata": {},
   "source": [
    "### 1. Remove duplicates\n",
    "\n",
    "Let's find out if there are any duplicates in the dataframe."
   ]
  },
  {
   "cell_type": "code",
   "execution_count": 6,
   "id": "8f640281",
   "metadata": {},
   "outputs": [
    {
     "name": "stdout",
     "output_type": "stream",
     "text": [
      "(205, 26)\n"
     ]
    },
    {
     "data": {
      "text/plain": [
       "0"
      ]
     },
     "execution_count": 6,
     "metadata": {},
     "output_type": "execute_result"
    }
   ],
   "source": [
    "print(df.shape)\n",
    "df.duplicated().sum()"
   ]
  },
  {
   "cell_type": "markdown",
   "id": "bf776c06",
   "metadata": {},
   "source": [
    "From this, we can see that there are **no duplicate entries** contained within our dataframe."
   ]
  },
  {
   "cell_type": "markdown",
   "id": "f52e01f2",
   "metadata": {},
   "source": [
    "### 2. Identify and handle missing data\n",
    "\n",
    "We need to first replace '?' with np.nan so that it's easy to deal with missing values in the dataset. \n",
    "\n"
   ]
  },
  {
   "cell_type": "code",
   "execution_count": 5,
   "id": "6b3e5bf7",
   "metadata": {},
   "outputs": [
    {
     "data": {
      "text/html": [
       "<div>\n",
       "<style scoped>\n",
       "    .dataframe tbody tr th:only-of-type {\n",
       "        vertical-align: middle;\n",
       "    }\n",
       "\n",
       "    .dataframe tbody tr th {\n",
       "        vertical-align: top;\n",
       "    }\n",
       "\n",
       "    .dataframe thead th {\n",
       "        text-align: right;\n",
       "    }\n",
       "</style>\n",
       "<table border=\"1\" class=\"dataframe\">\n",
       "  <thead>\n",
       "    <tr style=\"text-align: right;\">\n",
       "      <th></th>\n",
       "      <th>symboling</th>\n",
       "      <th>normalized-losses</th>\n",
       "      <th>make</th>\n",
       "      <th>fuel-type</th>\n",
       "      <th>aspiration</th>\n",
       "      <th>num-of-doors</th>\n",
       "      <th>body-style</th>\n",
       "      <th>drive-wheels</th>\n",
       "      <th>engine-location</th>\n",
       "      <th>wheel-base</th>\n",
       "      <th>...</th>\n",
       "      <th>engine-size</th>\n",
       "      <th>fuel-system</th>\n",
       "      <th>bore</th>\n",
       "      <th>stroke</th>\n",
       "      <th>compression-ratio</th>\n",
       "      <th>horsepower</th>\n",
       "      <th>peak-rpm</th>\n",
       "      <th>city-mpg</th>\n",
       "      <th>highway-mpg</th>\n",
       "      <th>price</th>\n",
       "    </tr>\n",
       "  </thead>\n",
       "  <tbody>\n",
       "    <tr>\n",
       "      <th>0</th>\n",
       "      <td>3</td>\n",
       "      <td>NaN</td>\n",
       "      <td>alfa-romero</td>\n",
       "      <td>gas</td>\n",
       "      <td>std</td>\n",
       "      <td>two</td>\n",
       "      <td>convertible</td>\n",
       "      <td>rwd</td>\n",
       "      <td>front</td>\n",
       "      <td>88.6</td>\n",
       "      <td>...</td>\n",
       "      <td>130</td>\n",
       "      <td>mpfi</td>\n",
       "      <td>3.47</td>\n",
       "      <td>2.68</td>\n",
       "      <td>9.0</td>\n",
       "      <td>111</td>\n",
       "      <td>5000</td>\n",
       "      <td>21</td>\n",
       "      <td>27</td>\n",
       "      <td>13495</td>\n",
       "    </tr>\n",
       "    <tr>\n",
       "      <th>1</th>\n",
       "      <td>3</td>\n",
       "      <td>NaN</td>\n",
       "      <td>alfa-romero</td>\n",
       "      <td>gas</td>\n",
       "      <td>std</td>\n",
       "      <td>two</td>\n",
       "      <td>convertible</td>\n",
       "      <td>rwd</td>\n",
       "      <td>front</td>\n",
       "      <td>88.6</td>\n",
       "      <td>...</td>\n",
       "      <td>130</td>\n",
       "      <td>mpfi</td>\n",
       "      <td>3.47</td>\n",
       "      <td>2.68</td>\n",
       "      <td>9.0</td>\n",
       "      <td>111</td>\n",
       "      <td>5000</td>\n",
       "      <td>21</td>\n",
       "      <td>27</td>\n",
       "      <td>16500</td>\n",
       "    </tr>\n",
       "    <tr>\n",
       "      <th>2</th>\n",
       "      <td>1</td>\n",
       "      <td>NaN</td>\n",
       "      <td>alfa-romero</td>\n",
       "      <td>gas</td>\n",
       "      <td>std</td>\n",
       "      <td>two</td>\n",
       "      <td>hatchback</td>\n",
       "      <td>rwd</td>\n",
       "      <td>front</td>\n",
       "      <td>94.5</td>\n",
       "      <td>...</td>\n",
       "      <td>152</td>\n",
       "      <td>mpfi</td>\n",
       "      <td>2.68</td>\n",
       "      <td>3.47</td>\n",
       "      <td>9.0</td>\n",
       "      <td>154</td>\n",
       "      <td>5000</td>\n",
       "      <td>19</td>\n",
       "      <td>26</td>\n",
       "      <td>16500</td>\n",
       "    </tr>\n",
       "    <tr>\n",
       "      <th>3</th>\n",
       "      <td>2</td>\n",
       "      <td>164</td>\n",
       "      <td>audi</td>\n",
       "      <td>gas</td>\n",
       "      <td>std</td>\n",
       "      <td>four</td>\n",
       "      <td>sedan</td>\n",
       "      <td>fwd</td>\n",
       "      <td>front</td>\n",
       "      <td>99.8</td>\n",
       "      <td>...</td>\n",
       "      <td>109</td>\n",
       "      <td>mpfi</td>\n",
       "      <td>3.19</td>\n",
       "      <td>3.40</td>\n",
       "      <td>10.0</td>\n",
       "      <td>102</td>\n",
       "      <td>5500</td>\n",
       "      <td>24</td>\n",
       "      <td>30</td>\n",
       "      <td>13950</td>\n",
       "    </tr>\n",
       "    <tr>\n",
       "      <th>4</th>\n",
       "      <td>2</td>\n",
       "      <td>164</td>\n",
       "      <td>audi</td>\n",
       "      <td>gas</td>\n",
       "      <td>std</td>\n",
       "      <td>four</td>\n",
       "      <td>sedan</td>\n",
       "      <td>4wd</td>\n",
       "      <td>front</td>\n",
       "      <td>99.4</td>\n",
       "      <td>...</td>\n",
       "      <td>136</td>\n",
       "      <td>mpfi</td>\n",
       "      <td>3.19</td>\n",
       "      <td>3.40</td>\n",
       "      <td>8.0</td>\n",
       "      <td>115</td>\n",
       "      <td>5500</td>\n",
       "      <td>18</td>\n",
       "      <td>22</td>\n",
       "      <td>17450</td>\n",
       "    </tr>\n",
       "  </tbody>\n",
       "</table>\n",
       "<p>5 rows × 26 columns</p>\n",
       "</div>"
      ],
      "text/plain": [
       "   symboling normalized-losses         make fuel-type aspiration num-of-doors  \\\n",
       "0          3               NaN  alfa-romero       gas        std          two   \n",
       "1          3               NaN  alfa-romero       gas        std          two   \n",
       "2          1               NaN  alfa-romero       gas        std          two   \n",
       "3          2               164         audi       gas        std         four   \n",
       "4          2               164         audi       gas        std         four   \n",
       "\n",
       "    body-style drive-wheels engine-location  wheel-base  ...  engine-size  \\\n",
       "0  convertible          rwd           front        88.6  ...          130   \n",
       "1  convertible          rwd           front        88.6  ...          130   \n",
       "2    hatchback          rwd           front        94.5  ...          152   \n",
       "3        sedan          fwd           front        99.8  ...          109   \n",
       "4        sedan          4wd           front        99.4  ...          136   \n",
       "\n",
       "   fuel-system  bore  stroke compression-ratio horsepower  peak-rpm city-mpg  \\\n",
       "0         mpfi  3.47    2.68               9.0        111      5000       21   \n",
       "1         mpfi  3.47    2.68               9.0        111      5000       21   \n",
       "2         mpfi  2.68    3.47               9.0        154      5000       19   \n",
       "3         mpfi  3.19    3.40              10.0        102      5500       24   \n",
       "4         mpfi  3.19    3.40               8.0        115      5500       18   \n",
       "\n",
       "  highway-mpg  price  \n",
       "0          27  13495  \n",
       "1          27  16500  \n",
       "2          26  16500  \n",
       "3          30  13950  \n",
       "4          22  17450  \n",
       "\n",
       "[5 rows x 26 columns]"
      ]
     },
     "execution_count": 5,
     "metadata": {},
     "output_type": "execute_result"
    }
   ],
   "source": [
    "df.replace('?',np.nan, inplace = True)\n",
    "df.head()"
   ]
  },
  {
   "cell_type": "markdown",
   "id": "23c4fb42",
   "metadata": {},
   "source": [
    "Now, let's find the columns with missing values. "
   ]
  },
  {
   "cell_type": "code",
   "execution_count": 9,
   "id": "d36b5a01",
   "metadata": {},
   "outputs": [
    {
     "name": "stdout",
     "output_type": "stream",
     "text": [
      "symboling\n",
      "False    205\n",
      "Name: symboling, dtype: int64\n",
      "\n",
      "normalized-losses\n",
      "False    164\n",
      "True      41\n",
      "Name: normalized-losses, dtype: int64\n",
      "\n",
      "make\n",
      "False    205\n",
      "Name: make, dtype: int64\n",
      "\n",
      "fuel-type\n",
      "False    205\n",
      "Name: fuel-type, dtype: int64\n",
      "\n",
      "aspiration\n",
      "False    205\n",
      "Name: aspiration, dtype: int64\n",
      "\n",
      "num-of-doors\n",
      "False    203\n",
      "True       2\n",
      "Name: num-of-doors, dtype: int64\n",
      "\n",
      "body-style\n",
      "False    205\n",
      "Name: body-style, dtype: int64\n",
      "\n",
      "drive-wheels\n",
      "False    205\n",
      "Name: drive-wheels, dtype: int64\n",
      "\n",
      "engine-location\n",
      "False    205\n",
      "Name: engine-location, dtype: int64\n",
      "\n",
      "wheel-base\n",
      "False    205\n",
      "Name: wheel-base, dtype: int64\n",
      "\n",
      "length\n",
      "False    205\n",
      "Name: length, dtype: int64\n",
      "\n",
      "width\n",
      "False    205\n",
      "Name: width, dtype: int64\n",
      "\n",
      "height\n",
      "False    205\n",
      "Name: height, dtype: int64\n",
      "\n",
      "curb-weight\n",
      "False    205\n",
      "Name: curb-weight, dtype: int64\n",
      "\n",
      "engine-type\n",
      "False    205\n",
      "Name: engine-type, dtype: int64\n",
      "\n",
      "num-of-cylinders\n",
      "False    205\n",
      "Name: num-of-cylinders, dtype: int64\n",
      "\n",
      "engine-size\n",
      "False    205\n",
      "Name: engine-size, dtype: int64\n",
      "\n",
      "fuel-system\n",
      "False    205\n",
      "Name: fuel-system, dtype: int64\n",
      "\n",
      "bore\n",
      "False    201\n",
      "True       4\n",
      "Name: bore, dtype: int64\n",
      "\n",
      "stroke\n",
      "False    201\n",
      "True       4\n",
      "Name: stroke, dtype: int64\n",
      "\n",
      "compression-ratio\n",
      "False    205\n",
      "Name: compression-ratio, dtype: int64\n",
      "\n",
      "horsepower\n",
      "False    203\n",
      "True       2\n",
      "Name: horsepower, dtype: int64\n",
      "\n",
      "peak-rpm\n",
      "False    203\n",
      "True       2\n",
      "Name: peak-rpm, dtype: int64\n",
      "\n",
      "city-mpg\n",
      "False    205\n",
      "Name: city-mpg, dtype: int64\n",
      "\n",
      "highway-mpg\n",
      "False    205\n",
      "Name: highway-mpg, dtype: int64\n",
      "\n",
      "price\n",
      "False    201\n",
      "True       4\n",
      "Name: price, dtype: int64\n",
      "\n"
     ]
    }
   ],
   "source": [
    "missing_df = df.isnull()\n",
    "\n",
    "for column in missing_df.columns.values.tolist():\n",
    "    print(column)\n",
    "    print(missing_df[column].value_counts())\n",
    "    print(\"\")"
   ]
  },
  {
   "cell_type": "markdown",
   "id": "55ad867d",
   "metadata": {},
   "source": [
    "These are 7 columns that have missing values that we need to deal with. Here's how we will handle the missing values: \n",
    "\n",
    "Replace missing values with the mean: \n",
    "* normalized-losses: 41 missing values\n",
    "* bore: 4 missing values\n",
    "* stroke: 4 missing values \n",
    "* horsepower: 2 missing values  \n",
    "* peak-rpm: 2 missing values\n",
    "\n",
    "Replace missing values with the mode: \n",
    "* num-of-doors: 2 missing values\n",
    "\n",
    "\n",
    "Drop the entire row: \n",
    "* price: 4 missing values\n",
    "    * We need to drop this row because this is what we want to predict using the other variables. \n",
    "    * Data entries without price cannot be used for prediction."
   ]
  },
  {
   "cell_type": "markdown",
   "id": "1d65cd3e",
   "metadata": {},
   "source": [
    "#### Replace missing values with the mean"
   ]
  },
  {
   "cell_type": "code",
   "execution_count": 20,
   "id": "2a66663e",
   "metadata": {},
   "outputs": [],
   "source": [
    "#normalized-losses\n",
    "avg_norm_loss = df['normalized-losses'].astype('float').mean(axis = 0)\n",
    "df['normalized-losses'].replace(np.nan, avg_norm_loss, inplace = True)\n",
    "\n",
    "#bore\n",
    "avg_bore = df['bore'].astype('float').mean(axis = 0)\n",
    "df['bore'].replace(np.nan, avg_bore, inplace = True)\n",
    "\n",
    "#stroke\n",
    "avg_stroke = df['stroke'].astype('float').mean(axis = 0)\n",
    "df['stroke'].replace(np.nan, avg_stroke, inplace = True)\n",
    "\n",
    "#horsepower\n",
    "avg_horsepower = df['horsepower'].astype('float').mean(axis = 0)\n",
    "df['horsepower'].replace(np.nan, avg_horsepower, inplace = True)\n",
    "\n",
    "#peak-rpm\n",
    "avg_peak_rpm = df['peak-rpm'].astype('float').mean(axis = 0)\n",
    "df['peak-rpm'].replace(np.nan, avg_peak_rpm, inplace = True)"
   ]
  },
  {
   "cell_type": "markdown",
   "id": "db99dbcb",
   "metadata": {},
   "source": [
    "#### Replace missing values with mode"
   ]
  },
  {
   "cell_type": "code",
   "execution_count": 21,
   "id": "f5430e54",
   "metadata": {},
   "outputs": [],
   "source": [
    "mode_num_doors = df['num-of-doors'].value_counts().idxmax()\n",
    "df['num-of-doors'].replace(np.nan, mode_num_doors, inplace = True)"
   ]
  },
  {
   "cell_type": "markdown",
   "id": "374a0713",
   "metadata": {},
   "source": [
    "#### Drop entire rows "
   ]
  },
  {
   "cell_type": "code",
   "execution_count": 23,
   "id": "e402507b",
   "metadata": {},
   "outputs": [
    {
     "data": {
      "text/html": [
       "<div>\n",
       "<style scoped>\n",
       "    .dataframe tbody tr th:only-of-type {\n",
       "        vertical-align: middle;\n",
       "    }\n",
       "\n",
       "    .dataframe tbody tr th {\n",
       "        vertical-align: top;\n",
       "    }\n",
       "\n",
       "    .dataframe thead th {\n",
       "        text-align: right;\n",
       "    }\n",
       "</style>\n",
       "<table border=\"1\" class=\"dataframe\">\n",
       "  <thead>\n",
       "    <tr style=\"text-align: right;\">\n",
       "      <th></th>\n",
       "      <th>symboling</th>\n",
       "      <th>normalized-losses</th>\n",
       "      <th>make</th>\n",
       "      <th>fuel-type</th>\n",
       "      <th>aspiration</th>\n",
       "      <th>num-of-doors</th>\n",
       "      <th>body-style</th>\n",
       "      <th>drive-wheels</th>\n",
       "      <th>engine-location</th>\n",
       "      <th>wheel-base</th>\n",
       "      <th>...</th>\n",
       "      <th>engine-size</th>\n",
       "      <th>fuel-system</th>\n",
       "      <th>bore</th>\n",
       "      <th>stroke</th>\n",
       "      <th>compression-ratio</th>\n",
       "      <th>horsepower</th>\n",
       "      <th>peak-rpm</th>\n",
       "      <th>city-mpg</th>\n",
       "      <th>highway-mpg</th>\n",
       "      <th>price</th>\n",
       "    </tr>\n",
       "  </thead>\n",
       "  <tbody>\n",
       "    <tr>\n",
       "      <th>0</th>\n",
       "      <td>3</td>\n",
       "      <td>122</td>\n",
       "      <td>alfa-romero</td>\n",
       "      <td>gas</td>\n",
       "      <td>std</td>\n",
       "      <td>two</td>\n",
       "      <td>convertible</td>\n",
       "      <td>rwd</td>\n",
       "      <td>front</td>\n",
       "      <td>88.6</td>\n",
       "      <td>...</td>\n",
       "      <td>130</td>\n",
       "      <td>mpfi</td>\n",
       "      <td>3.47</td>\n",
       "      <td>2.68</td>\n",
       "      <td>9.0</td>\n",
       "      <td>111</td>\n",
       "      <td>5000</td>\n",
       "      <td>21</td>\n",
       "      <td>27</td>\n",
       "      <td>13495</td>\n",
       "    </tr>\n",
       "    <tr>\n",
       "      <th>1</th>\n",
       "      <td>3</td>\n",
       "      <td>122</td>\n",
       "      <td>alfa-romero</td>\n",
       "      <td>gas</td>\n",
       "      <td>std</td>\n",
       "      <td>two</td>\n",
       "      <td>convertible</td>\n",
       "      <td>rwd</td>\n",
       "      <td>front</td>\n",
       "      <td>88.6</td>\n",
       "      <td>...</td>\n",
       "      <td>130</td>\n",
       "      <td>mpfi</td>\n",
       "      <td>3.47</td>\n",
       "      <td>2.68</td>\n",
       "      <td>9.0</td>\n",
       "      <td>111</td>\n",
       "      <td>5000</td>\n",
       "      <td>21</td>\n",
       "      <td>27</td>\n",
       "      <td>16500</td>\n",
       "    </tr>\n",
       "    <tr>\n",
       "      <th>2</th>\n",
       "      <td>1</td>\n",
       "      <td>122</td>\n",
       "      <td>alfa-romero</td>\n",
       "      <td>gas</td>\n",
       "      <td>std</td>\n",
       "      <td>two</td>\n",
       "      <td>hatchback</td>\n",
       "      <td>rwd</td>\n",
       "      <td>front</td>\n",
       "      <td>94.5</td>\n",
       "      <td>...</td>\n",
       "      <td>152</td>\n",
       "      <td>mpfi</td>\n",
       "      <td>2.68</td>\n",
       "      <td>3.47</td>\n",
       "      <td>9.0</td>\n",
       "      <td>154</td>\n",
       "      <td>5000</td>\n",
       "      <td>19</td>\n",
       "      <td>26</td>\n",
       "      <td>16500</td>\n",
       "    </tr>\n",
       "    <tr>\n",
       "      <th>3</th>\n",
       "      <td>2</td>\n",
       "      <td>164</td>\n",
       "      <td>audi</td>\n",
       "      <td>gas</td>\n",
       "      <td>std</td>\n",
       "      <td>four</td>\n",
       "      <td>sedan</td>\n",
       "      <td>fwd</td>\n",
       "      <td>front</td>\n",
       "      <td>99.8</td>\n",
       "      <td>...</td>\n",
       "      <td>109</td>\n",
       "      <td>mpfi</td>\n",
       "      <td>3.19</td>\n",
       "      <td>3.40</td>\n",
       "      <td>10.0</td>\n",
       "      <td>102</td>\n",
       "      <td>5500</td>\n",
       "      <td>24</td>\n",
       "      <td>30</td>\n",
       "      <td>13950</td>\n",
       "    </tr>\n",
       "    <tr>\n",
       "      <th>4</th>\n",
       "      <td>2</td>\n",
       "      <td>164</td>\n",
       "      <td>audi</td>\n",
       "      <td>gas</td>\n",
       "      <td>std</td>\n",
       "      <td>four</td>\n",
       "      <td>sedan</td>\n",
       "      <td>4wd</td>\n",
       "      <td>front</td>\n",
       "      <td>99.4</td>\n",
       "      <td>...</td>\n",
       "      <td>136</td>\n",
       "      <td>mpfi</td>\n",
       "      <td>3.19</td>\n",
       "      <td>3.40</td>\n",
       "      <td>8.0</td>\n",
       "      <td>115</td>\n",
       "      <td>5500</td>\n",
       "      <td>18</td>\n",
       "      <td>22</td>\n",
       "      <td>17450</td>\n",
       "    </tr>\n",
       "  </tbody>\n",
       "</table>\n",
       "<p>5 rows × 26 columns</p>\n",
       "</div>"
      ],
      "text/plain": [
       "   symboling normalized-losses         make fuel-type aspiration num-of-doors  \\\n",
       "0          3               122  alfa-romero       gas        std          two   \n",
       "1          3               122  alfa-romero       gas        std          two   \n",
       "2          1               122  alfa-romero       gas        std          two   \n",
       "3          2               164         audi       gas        std         four   \n",
       "4          2               164         audi       gas        std         four   \n",
       "\n",
       "    body-style drive-wheels engine-location  wheel-base  ...  engine-size  \\\n",
       "0  convertible          rwd           front        88.6  ...          130   \n",
       "1  convertible          rwd           front        88.6  ...          130   \n",
       "2    hatchback          rwd           front        94.5  ...          152   \n",
       "3        sedan          fwd           front        99.8  ...          109   \n",
       "4        sedan          4wd           front        99.4  ...          136   \n",
       "\n",
       "   fuel-system  bore  stroke compression-ratio horsepower  peak-rpm city-mpg  \\\n",
       "0         mpfi  3.47    2.68               9.0        111      5000       21   \n",
       "1         mpfi  3.47    2.68               9.0        111      5000       21   \n",
       "2         mpfi  2.68    3.47               9.0        154      5000       19   \n",
       "3         mpfi  3.19    3.40              10.0        102      5500       24   \n",
       "4         mpfi  3.19    3.40               8.0        115      5500       18   \n",
       "\n",
       "  highway-mpg  price  \n",
       "0          27  13495  \n",
       "1          27  16500  \n",
       "2          26  16500  \n",
       "3          30  13950  \n",
       "4          22  17450  \n",
       "\n",
       "[5 rows x 26 columns]"
      ]
     },
     "execution_count": 23,
     "metadata": {},
     "output_type": "execute_result"
    }
   ],
   "source": [
    "df.dropna(subset=['price'],axis = 0, inplace = True)\n",
    "df.reset_index(drop=True, inplace=True)\n",
    "df.head()"
   ]
  },
  {
   "cell_type": "markdown",
   "id": "dd54d2f0",
   "metadata": {},
   "source": [
    "### 3. Correct Data Formats\n",
    "\n",
    "We need to ensure that each column is of the right data type in order to perform our analysis correctly. \n",
    "\n",
    "Let's check our data types: "
   ]
  },
  {
   "cell_type": "code",
   "execution_count": 25,
   "id": "8a80d5ee",
   "metadata": {},
   "outputs": [
    {
     "data": {
      "text/plain": [
       "symboling              int64\n",
       "normalized-losses     object\n",
       "make                  object\n",
       "fuel-type             object\n",
       "aspiration            object\n",
       "num-of-doors          object\n",
       "body-style            object\n",
       "drive-wheels          object\n",
       "engine-location       object\n",
       "wheel-base           float64\n",
       "length               float64\n",
       "width                float64\n",
       "height               float64\n",
       "curb-weight            int64\n",
       "engine-type           object\n",
       "num-of-cylinders      object\n",
       "engine-size            int64\n",
       "fuel-system           object\n",
       "bore                  object\n",
       "stroke                object\n",
       "compression-ratio    float64\n",
       "horsepower            object\n",
       "peak-rpm              object\n",
       "city-mpg               int64\n",
       "highway-mpg            int64\n",
       "price                 object\n",
       "dtype: object"
      ]
     },
     "execution_count": 25,
     "metadata": {},
     "output_type": "execute_result"
    }
   ],
   "source": [
    "df.dtypes"
   ]
  },
  {
   "cell_type": "markdown",
   "id": "1c373fa2",
   "metadata": {},
   "source": [
    "Let's correct the following data types: \n",
    "1. normalized-losses: change to **int**\n",
    "1. bore: change to **float**\n",
    "2. stroke: change to **float**\n",
    "3. horsepower: change to **float**\n",
    "4. peak-rpm: change to **float**"
   ]
  },
  {
   "cell_type": "code",
   "execution_count": 26,
   "id": "9bb1e1b3",
   "metadata": {},
   "outputs": [],
   "source": [
    "df[[\"normalized-losses\"]] = df[[\"normalized-losses\"]].astype(\"int\")\n",
    "df[[\"bore\", \"stroke\"]] = df[[\"bore\", \"stroke\"]].astype(\"float\")\n",
    "df[[\"price\"]] = df[[\"price\"]].astype(\"float\")\n",
    "df[[\"horsepower\",\"peak-rpm\"]] = df[[\"horsepower\",\"peak-rpm\"]].astype(\"float\")"
   ]
  },
  {
   "cell_type": "markdown",
   "id": "4e0cab39",
   "metadata": {},
   "source": [
    "Let's check our work."
   ]
  },
  {
   "cell_type": "code",
   "execution_count": 27,
   "id": "9df9adfe",
   "metadata": {},
   "outputs": [
    {
     "data": {
      "text/plain": [
       "symboling              int64\n",
       "normalized-losses      int64\n",
       "make                  object\n",
       "fuel-type             object\n",
       "aspiration            object\n",
       "num-of-doors          object\n",
       "body-style            object\n",
       "drive-wheels          object\n",
       "engine-location       object\n",
       "wheel-base           float64\n",
       "length               float64\n",
       "width                float64\n",
       "height               float64\n",
       "curb-weight            int64\n",
       "engine-type           object\n",
       "num-of-cylinders      object\n",
       "engine-size            int64\n",
       "fuel-system           object\n",
       "bore                 float64\n",
       "stroke               float64\n",
       "compression-ratio    float64\n",
       "horsepower           float64\n",
       "peak-rpm             float64\n",
       "city-mpg               int64\n",
       "highway-mpg            int64\n",
       "price                float64\n",
       "dtype: object"
      ]
     },
     "execution_count": 27,
     "metadata": {},
     "output_type": "execute_result"
    }
   ],
   "source": [
    "df.dtypes"
   ]
  },
  {
   "cell_type": "markdown",
   "id": "59b1a395",
   "metadata": {},
   "source": [
    "We can now export our clean dataset, in case we need to use the same data in another project. "
   ]
  },
  {
   "cell_type": "code",
   "execution_count": 29,
   "id": "71d825c6",
   "metadata": {},
   "outputs": [],
   "source": [
    "df.to_csv('clean_auto_data.csv')"
   ]
  },
  {
   "cell_type": "markdown",
   "id": "30b451f5",
   "metadata": {},
   "source": [
    "<h2><a id=\"data_analysis\" >Data Analysis</a></h2>\n",
    "\n",
    "This project will consist of two phases of data analysis: \n",
    "1. Exploratory Data Analysis\n",
    "2. Model Development and Evaluation\n",
    "\n",
    "Let's start with data exploration. "
   ]
  },
  {
   "cell_type": "markdown",
   "id": "831e2f27",
   "metadata": {},
   "source": [
    "<h3><a id=\"eda\" >Phase 1: Exploratory Data Analysis</a></h3>\n",
    "\n",
    "\n",
    "In this phase, we will perform these tasks: \n",
    "1. Descriptive statistical analysis\n",
    "2. Finding correlation between the numeric variables and price\n",
    "3. View the relationship between the categorical variables and price\n",
    "\n",
    "This will help us determine which variables will be important to include when building our regression model. "
   ]
  },
  {
   "cell_type": "markdown",
   "id": "2216ecae",
   "metadata": {},
   "source": [
    "#### 1. Descriptive Statistical Analysis\n",
    "Let's compute basic statistics for our variables."
   ]
  },
  {
   "cell_type": "code",
   "execution_count": 31,
   "id": "0a68de7d",
   "metadata": {},
   "outputs": [
    {
     "data": {
      "text/html": [
       "<div>\n",
       "<style scoped>\n",
       "    .dataframe tbody tr th:only-of-type {\n",
       "        vertical-align: middle;\n",
       "    }\n",
       "\n",
       "    .dataframe tbody tr th {\n",
       "        vertical-align: top;\n",
       "    }\n",
       "\n",
       "    .dataframe thead th {\n",
       "        text-align: right;\n",
       "    }\n",
       "</style>\n",
       "<table border=\"1\" class=\"dataframe\">\n",
       "  <thead>\n",
       "    <tr style=\"text-align: right;\">\n",
       "      <th></th>\n",
       "      <th>symboling</th>\n",
       "      <th>normalized-losses</th>\n",
       "      <th>wheel-base</th>\n",
       "      <th>length</th>\n",
       "      <th>width</th>\n",
       "      <th>height</th>\n",
       "      <th>curb-weight</th>\n",
       "      <th>engine-size</th>\n",
       "      <th>bore</th>\n",
       "      <th>stroke</th>\n",
       "      <th>compression-ratio</th>\n",
       "      <th>horsepower</th>\n",
       "      <th>peak-rpm</th>\n",
       "      <th>city-mpg</th>\n",
       "      <th>highway-mpg</th>\n",
       "      <th>price</th>\n",
       "    </tr>\n",
       "  </thead>\n",
       "  <tbody>\n",
       "    <tr>\n",
       "      <th>count</th>\n",
       "      <td>201.000000</td>\n",
       "      <td>201.00000</td>\n",
       "      <td>201.000000</td>\n",
       "      <td>201.000000</td>\n",
       "      <td>201.000000</td>\n",
       "      <td>201.000000</td>\n",
       "      <td>201.000000</td>\n",
       "      <td>201.000000</td>\n",
       "      <td>201.000000</td>\n",
       "      <td>201.000000</td>\n",
       "      <td>201.000000</td>\n",
       "      <td>201.000000</td>\n",
       "      <td>201.000000</td>\n",
       "      <td>201.000000</td>\n",
       "      <td>201.000000</td>\n",
       "      <td>201.000000</td>\n",
       "    </tr>\n",
       "    <tr>\n",
       "      <th>mean</th>\n",
       "      <td>0.840796</td>\n",
       "      <td>122.00000</td>\n",
       "      <td>98.797015</td>\n",
       "      <td>174.200995</td>\n",
       "      <td>65.889055</td>\n",
       "      <td>53.766667</td>\n",
       "      <td>2555.666667</td>\n",
       "      <td>126.875622</td>\n",
       "      <td>3.330692</td>\n",
       "      <td>3.256874</td>\n",
       "      <td>10.164279</td>\n",
       "      <td>103.405534</td>\n",
       "      <td>5117.665368</td>\n",
       "      <td>25.179104</td>\n",
       "      <td>30.686567</td>\n",
       "      <td>13207.129353</td>\n",
       "    </tr>\n",
       "    <tr>\n",
       "      <th>std</th>\n",
       "      <td>1.254802</td>\n",
       "      <td>31.99625</td>\n",
       "      <td>6.066366</td>\n",
       "      <td>12.322175</td>\n",
       "      <td>2.101471</td>\n",
       "      <td>2.447822</td>\n",
       "      <td>517.296727</td>\n",
       "      <td>41.546834</td>\n",
       "      <td>0.268072</td>\n",
       "      <td>0.316048</td>\n",
       "      <td>4.004965</td>\n",
       "      <td>37.365700</td>\n",
       "      <td>478.113805</td>\n",
       "      <td>6.423220</td>\n",
       "      <td>6.815150</td>\n",
       "      <td>7947.066342</td>\n",
       "    </tr>\n",
       "    <tr>\n",
       "      <th>min</th>\n",
       "      <td>-2.000000</td>\n",
       "      <td>65.00000</td>\n",
       "      <td>86.600000</td>\n",
       "      <td>141.100000</td>\n",
       "      <td>60.300000</td>\n",
       "      <td>47.800000</td>\n",
       "      <td>1488.000000</td>\n",
       "      <td>61.000000</td>\n",
       "      <td>2.540000</td>\n",
       "      <td>2.070000</td>\n",
       "      <td>7.000000</td>\n",
       "      <td>48.000000</td>\n",
       "      <td>4150.000000</td>\n",
       "      <td>13.000000</td>\n",
       "      <td>16.000000</td>\n",
       "      <td>5118.000000</td>\n",
       "    </tr>\n",
       "    <tr>\n",
       "      <th>25%</th>\n",
       "      <td>0.000000</td>\n",
       "      <td>101.00000</td>\n",
       "      <td>94.500000</td>\n",
       "      <td>166.800000</td>\n",
       "      <td>64.100000</td>\n",
       "      <td>52.000000</td>\n",
       "      <td>2169.000000</td>\n",
       "      <td>98.000000</td>\n",
       "      <td>3.150000</td>\n",
       "      <td>3.110000</td>\n",
       "      <td>8.600000</td>\n",
       "      <td>70.000000</td>\n",
       "      <td>4800.000000</td>\n",
       "      <td>19.000000</td>\n",
       "      <td>25.000000</td>\n",
       "      <td>7775.000000</td>\n",
       "    </tr>\n",
       "    <tr>\n",
       "      <th>50%</th>\n",
       "      <td>1.000000</td>\n",
       "      <td>122.00000</td>\n",
       "      <td>97.000000</td>\n",
       "      <td>173.200000</td>\n",
       "      <td>65.500000</td>\n",
       "      <td>54.100000</td>\n",
       "      <td>2414.000000</td>\n",
       "      <td>120.000000</td>\n",
       "      <td>3.310000</td>\n",
       "      <td>3.290000</td>\n",
       "      <td>9.000000</td>\n",
       "      <td>95.000000</td>\n",
       "      <td>5125.369458</td>\n",
       "      <td>24.000000</td>\n",
       "      <td>30.000000</td>\n",
       "      <td>10295.000000</td>\n",
       "    </tr>\n",
       "    <tr>\n",
       "      <th>75%</th>\n",
       "      <td>2.000000</td>\n",
       "      <td>137.00000</td>\n",
       "      <td>102.400000</td>\n",
       "      <td>183.500000</td>\n",
       "      <td>66.600000</td>\n",
       "      <td>55.500000</td>\n",
       "      <td>2926.000000</td>\n",
       "      <td>141.000000</td>\n",
       "      <td>3.580000</td>\n",
       "      <td>3.410000</td>\n",
       "      <td>9.400000</td>\n",
       "      <td>116.000000</td>\n",
       "      <td>5500.000000</td>\n",
       "      <td>30.000000</td>\n",
       "      <td>34.000000</td>\n",
       "      <td>16500.000000</td>\n",
       "    </tr>\n",
       "    <tr>\n",
       "      <th>max</th>\n",
       "      <td>3.000000</td>\n",
       "      <td>256.00000</td>\n",
       "      <td>120.900000</td>\n",
       "      <td>208.100000</td>\n",
       "      <td>72.000000</td>\n",
       "      <td>59.800000</td>\n",
       "      <td>4066.000000</td>\n",
       "      <td>326.000000</td>\n",
       "      <td>3.940000</td>\n",
       "      <td>4.170000</td>\n",
       "      <td>23.000000</td>\n",
       "      <td>262.000000</td>\n",
       "      <td>6600.000000</td>\n",
       "      <td>49.000000</td>\n",
       "      <td>54.000000</td>\n",
       "      <td>45400.000000</td>\n",
       "    </tr>\n",
       "  </tbody>\n",
       "</table>\n",
       "</div>"
      ],
      "text/plain": [
       "        symboling  normalized-losses  wheel-base      length       width  \\\n",
       "count  201.000000          201.00000  201.000000  201.000000  201.000000   \n",
       "mean     0.840796          122.00000   98.797015  174.200995   65.889055   \n",
       "std      1.254802           31.99625    6.066366   12.322175    2.101471   \n",
       "min     -2.000000           65.00000   86.600000  141.100000   60.300000   \n",
       "25%      0.000000          101.00000   94.500000  166.800000   64.100000   \n",
       "50%      1.000000          122.00000   97.000000  173.200000   65.500000   \n",
       "75%      2.000000          137.00000  102.400000  183.500000   66.600000   \n",
       "max      3.000000          256.00000  120.900000  208.100000   72.000000   \n",
       "\n",
       "           height  curb-weight  engine-size        bore      stroke  \\\n",
       "count  201.000000   201.000000   201.000000  201.000000  201.000000   \n",
       "mean    53.766667  2555.666667   126.875622    3.330692    3.256874   \n",
       "std      2.447822   517.296727    41.546834    0.268072    0.316048   \n",
       "min     47.800000  1488.000000    61.000000    2.540000    2.070000   \n",
       "25%     52.000000  2169.000000    98.000000    3.150000    3.110000   \n",
       "50%     54.100000  2414.000000   120.000000    3.310000    3.290000   \n",
       "75%     55.500000  2926.000000   141.000000    3.580000    3.410000   \n",
       "max     59.800000  4066.000000   326.000000    3.940000    4.170000   \n",
       "\n",
       "       compression-ratio  horsepower     peak-rpm    city-mpg  highway-mpg  \\\n",
       "count         201.000000  201.000000   201.000000  201.000000   201.000000   \n",
       "mean           10.164279  103.405534  5117.665368   25.179104    30.686567   \n",
       "std             4.004965   37.365700   478.113805    6.423220     6.815150   \n",
       "min             7.000000   48.000000  4150.000000   13.000000    16.000000   \n",
       "25%             8.600000   70.000000  4800.000000   19.000000    25.000000   \n",
       "50%             9.000000   95.000000  5125.369458   24.000000    30.000000   \n",
       "75%             9.400000  116.000000  5500.000000   30.000000    34.000000   \n",
       "max            23.000000  262.000000  6600.000000   49.000000    54.000000   \n",
       "\n",
       "              price  \n",
       "count    201.000000  \n",
       "mean   13207.129353  \n",
       "std     7947.066342  \n",
       "min     5118.000000  \n",
       "25%     7775.000000  \n",
       "50%    10295.000000  \n",
       "75%    16500.000000  \n",
       "max    45400.000000  "
      ]
     },
     "execution_count": 31,
     "metadata": {},
     "output_type": "execute_result"
    }
   ],
   "source": [
    "#numeric variables\n",
    "df.describe()"
   ]
  },
  {
   "cell_type": "code",
   "execution_count": 32,
   "id": "b39c866c",
   "metadata": {},
   "outputs": [
    {
     "data": {
      "text/html": [
       "<div>\n",
       "<style scoped>\n",
       "    .dataframe tbody tr th:only-of-type {\n",
       "        vertical-align: middle;\n",
       "    }\n",
       "\n",
       "    .dataframe tbody tr th {\n",
       "        vertical-align: top;\n",
       "    }\n",
       "\n",
       "    .dataframe thead th {\n",
       "        text-align: right;\n",
       "    }\n",
       "</style>\n",
       "<table border=\"1\" class=\"dataframe\">\n",
       "  <thead>\n",
       "    <tr style=\"text-align: right;\">\n",
       "      <th></th>\n",
       "      <th>make</th>\n",
       "      <th>fuel-type</th>\n",
       "      <th>aspiration</th>\n",
       "      <th>num-of-doors</th>\n",
       "      <th>body-style</th>\n",
       "      <th>drive-wheels</th>\n",
       "      <th>engine-location</th>\n",
       "      <th>engine-type</th>\n",
       "      <th>num-of-cylinders</th>\n",
       "      <th>fuel-system</th>\n",
       "    </tr>\n",
       "  </thead>\n",
       "  <tbody>\n",
       "    <tr>\n",
       "      <th>count</th>\n",
       "      <td>201</td>\n",
       "      <td>201</td>\n",
       "      <td>201</td>\n",
       "      <td>201</td>\n",
       "      <td>201</td>\n",
       "      <td>201</td>\n",
       "      <td>201</td>\n",
       "      <td>201</td>\n",
       "      <td>201</td>\n",
       "      <td>201</td>\n",
       "    </tr>\n",
       "    <tr>\n",
       "      <th>unique</th>\n",
       "      <td>22</td>\n",
       "      <td>2</td>\n",
       "      <td>2</td>\n",
       "      <td>2</td>\n",
       "      <td>5</td>\n",
       "      <td>3</td>\n",
       "      <td>2</td>\n",
       "      <td>6</td>\n",
       "      <td>7</td>\n",
       "      <td>8</td>\n",
       "    </tr>\n",
       "    <tr>\n",
       "      <th>top</th>\n",
       "      <td>toyota</td>\n",
       "      <td>gas</td>\n",
       "      <td>std</td>\n",
       "      <td>four</td>\n",
       "      <td>sedan</td>\n",
       "      <td>fwd</td>\n",
       "      <td>front</td>\n",
       "      <td>ohc</td>\n",
       "      <td>four</td>\n",
       "      <td>mpfi</td>\n",
       "    </tr>\n",
       "    <tr>\n",
       "      <th>freq</th>\n",
       "      <td>32</td>\n",
       "      <td>181</td>\n",
       "      <td>165</td>\n",
       "      <td>115</td>\n",
       "      <td>94</td>\n",
       "      <td>118</td>\n",
       "      <td>198</td>\n",
       "      <td>145</td>\n",
       "      <td>157</td>\n",
       "      <td>92</td>\n",
       "    </tr>\n",
       "  </tbody>\n",
       "</table>\n",
       "</div>"
      ],
      "text/plain": [
       "          make fuel-type aspiration num-of-doors body-style drive-wheels  \\\n",
       "count      201       201        201          201        201          201   \n",
       "unique      22         2          2            2          5            3   \n",
       "top     toyota       gas        std         four      sedan          fwd   \n",
       "freq        32       181        165          115         94          118   \n",
       "\n",
       "       engine-location engine-type num-of-cylinders fuel-system  \n",
       "count              201         201              201         201  \n",
       "unique               2           6                7           8  \n",
       "top              front         ohc             four        mpfi  \n",
       "freq               198         145              157          92  "
      ]
     },
     "execution_count": 32,
     "metadata": {},
     "output_type": "execute_result"
    }
   ],
   "source": [
    "#categorical variables\n",
    "df.describe(include=['object'])"
   ]
  },
  {
   "cell_type": "markdown",
   "id": "ea52a652",
   "metadata": {},
   "source": [
    "#### 2. Finding Correlation - Numeric Variables\n",
    "\n",
    "Let's find the correlation to see which variables have the strongest relationship with price."
   ]
  },
  {
   "cell_type": "code",
   "execution_count": 52,
   "id": "54597c17",
   "metadata": {},
   "outputs": [
    {
     "data": {
      "text/html": [
       "<div>\n",
       "<style scoped>\n",
       "    .dataframe tbody tr th:only-of-type {\n",
       "        vertical-align: middle;\n",
       "    }\n",
       "\n",
       "    .dataframe tbody tr th {\n",
       "        vertical-align: top;\n",
       "    }\n",
       "\n",
       "    .dataframe thead th {\n",
       "        text-align: right;\n",
       "    }\n",
       "</style>\n",
       "<table border=\"1\" class=\"dataframe\">\n",
       "  <thead>\n",
       "    <tr style=\"text-align: right;\">\n",
       "      <th></th>\n",
       "      <th>price</th>\n",
       "    </tr>\n",
       "  </thead>\n",
       "  <tbody>\n",
       "    <tr>\n",
       "      <th>highway-mpg</th>\n",
       "      <td>-0.704692</td>\n",
       "    </tr>\n",
       "    <tr>\n",
       "      <th>city-mpg</th>\n",
       "      <td>-0.686571</td>\n",
       "    </tr>\n",
       "    <tr>\n",
       "      <th>peak-rpm</th>\n",
       "      <td>-0.101616</td>\n",
       "    </tr>\n",
       "    <tr>\n",
       "      <th>symboling</th>\n",
       "      <td>-0.082391</td>\n",
       "    </tr>\n",
       "    <tr>\n",
       "      <th>compression-ratio</th>\n",
       "      <td>0.071107</td>\n",
       "    </tr>\n",
       "    <tr>\n",
       "      <th>stroke</th>\n",
       "      <td>0.082269</td>\n",
       "    </tr>\n",
       "    <tr>\n",
       "      <th>normalized-losses</th>\n",
       "      <td>0.133999</td>\n",
       "    </tr>\n",
       "    <tr>\n",
       "      <th>height</th>\n",
       "      <td>0.135486</td>\n",
       "    </tr>\n",
       "    <tr>\n",
       "      <th>bore</th>\n",
       "      <td>0.543155</td>\n",
       "    </tr>\n",
       "    <tr>\n",
       "      <th>wheel-base</th>\n",
       "      <td>0.584642</td>\n",
       "    </tr>\n",
       "    <tr>\n",
       "      <th>length</th>\n",
       "      <td>0.690628</td>\n",
       "    </tr>\n",
       "    <tr>\n",
       "      <th>width</th>\n",
       "      <td>0.751265</td>\n",
       "    </tr>\n",
       "    <tr>\n",
       "      <th>horsepower</th>\n",
       "      <td>0.809575</td>\n",
       "    </tr>\n",
       "    <tr>\n",
       "      <th>curb-weight</th>\n",
       "      <td>0.834415</td>\n",
       "    </tr>\n",
       "    <tr>\n",
       "      <th>engine-size</th>\n",
       "      <td>0.872335</td>\n",
       "    </tr>\n",
       "    <tr>\n",
       "      <th>price</th>\n",
       "      <td>1.000000</td>\n",
       "    </tr>\n",
       "  </tbody>\n",
       "</table>\n",
       "</div>"
      ],
      "text/plain": [
       "                      price\n",
       "highway-mpg       -0.704692\n",
       "city-mpg          -0.686571\n",
       "peak-rpm          -0.101616\n",
       "symboling         -0.082391\n",
       "compression-ratio  0.071107\n",
       "stroke             0.082269\n",
       "normalized-losses  0.133999\n",
       "height             0.135486\n",
       "bore               0.543155\n",
       "wheel-base         0.584642\n",
       "length             0.690628\n",
       "width              0.751265\n",
       "horsepower         0.809575\n",
       "curb-weight        0.834415\n",
       "engine-size        0.872335\n",
       "price              1.000000"
      ]
     },
     "execution_count": 52,
     "metadata": {},
     "output_type": "execute_result"
    }
   ],
   "source": [
    "df.corr().loc[:,'price'].to_frame().sort_values(by='price')"
   ]
  },
  {
   "cell_type": "markdown",
   "id": "832dd604",
   "metadata": {},
   "source": [
    "These are the variables that have a strong correlation *( >0.7 or <-0.7 )* with price, from the strongest correlation to the weakest: \n",
    "1. engine-size\n",
    "2. curb-weight\n",
    "3. horsepower\n",
    "4. width\n",
    "5. highway-mpg \n",
    "\n",
    "Let's calculate the p-values to test if the correlation is stastistically significant."
   ]
  },
  {
   "cell_type": "code",
   "execution_count": 53,
   "id": "c68933a7",
   "metadata": {},
   "outputs": [],
   "source": [
    "from scipy import stats"
   ]
  },
  {
   "cell_type": "code",
   "execution_count": 118,
   "id": "bf57621b",
   "metadata": {},
   "outputs": [
    {
     "name": "stdout",
     "output_type": "stream",
     "text": [
      "engine-size:  \n",
      "Correlation:  0.8723351674455185 \n",
      "P-value: 9.265491622198389e-64 \n",
      "\n",
      "curb-weight:  \n",
      "Correlation:  0.8344145257702846 \n",
      "P-value: 2.1895772388936914e-53 \n",
      "\n",
      "horsepower:  \n",
      "Correlation:  0.809574567003656 \n",
      "P-value: 6.369057428259557e-48 \n",
      "\n",
      "width:  \n",
      "Correlation:  0.7512653440522672 \n",
      "P-value: 9.20033551048217e-38 \n",
      "\n",
      "highway-mpg:  \n",
      "Correlation:  -0.7046922650589529 \n",
      "P-value: 1.7495471144477352e-31 \n",
      "\n"
     ]
    }
   ],
   "source": [
    "#find all of the pearson's correlation coefficients, and their corresponding p-values. \n",
    "engine_corr, engine_pvalue = stats.pearsonr(df['engine-size'], df['price'])\n",
    "curb_corr, curb_pvalue = stats.pearsonr(df['curb-weight'], df['price'])\n",
    "horsepower_corr, horsepower_pvalue = stats.pearsonr(df['horsepower'], df['price'])\n",
    "width_corr, width_pvalue = stats.pearsonr(df['width'], df['price'])\n",
    "highway_corr, highway_pvalue = stats.pearsonr(df['highway-mpg'], df['price'])\n",
    "\n",
    "\n",
    "print('engine-size: ','\\nCorrelation: ',engine_corr,'\\nP-value:',engine_pvalue,'\\n')\n",
    "print('curb-weight: ','\\nCorrelation: ',curb_corr,'\\nP-value:',curb_pvalue,'\\n')\n",
    "print('horsepower: ','\\nCorrelation: ',horsepower_corr,'\\nP-value:',horsepower_pvalue,'\\n')\n",
    "print('width: ','\\nCorrelation: ',width_corr,'\\nP-value:',width_pvalue,'\\n')\n",
    "print('highway-mpg: ','\\nCorrelation: ',highway_corr,'\\nP-value:',highway_pvalue,'\\n')"
   ]
  },
  {
   "cell_type": "markdown",
   "id": "99b4b316",
   "metadata": {},
   "source": [
    "The correlation between each of these 5 variables and price is statistically significant. We can consider them when building our regression model. "
   ]
  },
  {
   "cell_type": "markdown",
   "id": "3dde4575",
   "metadata": {},
   "source": [
    "#### 3. Finding Correlation - Categorical Variables\n",
    "\n",
    "Let's view the relationships visually using box plots to see if there's a significant relationship between price and these categorical variables: \n",
    "\n",
    "* make\n",
    "* fuel-type\n",
    "* aspiration\n",
    "* num-of-doors\n",
    "* body-style\n",
    "* drive-wheels\n",
    "* engine-location\n",
    "* engine-type\n",
    "* num-of-cylinders\n",
    "* fuel-system"
   ]
  },
  {
   "cell_type": "code",
   "execution_count": 61,
   "id": "9e6620ff",
   "metadata": {},
   "outputs": [
    {
     "data": {
      "text/plain": [
       "<AxesSubplot:xlabel='make', ylabel='price'>"
      ]
     },
     "execution_count": 61,
     "metadata": {},
     "output_type": "execute_result"
    },
    {
     "data": {
      "image/png": "[encoded data removed]",
      "text/plain": [
       "<Figure size 640x480 with 1 Axes>"
      ]
     },
     "metadata": {},
     "output_type": "display_data"
    }
   ],
   "source": [
    "sns.boxplot(x=\"make\", y=\"price\", data=df)"
   ]
  },
  {
   "cell_type": "code",
   "execution_count": 62,
   "id": "fbe43775",
   "metadata": {},
   "outputs": [
    {
     "data": {
      "text/plain": [
       "<AxesSubplot:xlabel='fuel-type', ylabel='price'>"
      ]
     },
     "execution_count": 62,
     "metadata": {},
     "output_type": "execute_result"
    },
    {
     "data": {
      "image/png": "[encoded data removed]",
      "text/plain": [
       "<Figure size 640x480 with 1 Axes>"
      ]
     },
     "metadata": {},
     "output_type": "display_data"
    }
   ],
   "source": [
    "sns.boxplot(x=\"fuel-type\", y=\"price\", data=df)"
   ]
  },
  {
   "cell_type": "code",
   "execution_count": 63,
   "id": "6bdf8171",
   "metadata": {},
   "outputs": [
    {
     "data": {
      "text/plain": [
       "<AxesSubplot:xlabel='aspiration', ylabel='price'>"
      ]
     },
     "execution_count": 63,
     "metadata": {},
     "output_type": "execute_result"
    },
    {
     "data": {
      "image/png": "[encoded data removed]",
      "text/plain": [
       "<Figure size 640x480 with 1 Axes>"
      ]
     },
     "metadata": {},
     "output_type": "display_data"
    }
   ],
   "source": [
    "sns.boxplot(x=\"aspiration\", y=\"price\", data=df)"
   ]
  },
  {
   "cell_type": "code",
   "execution_count": 64,
   "id": "f985b15f",
   "metadata": {},
   "outputs": [
    {
     "data": {
      "text/plain": [
       "<AxesSubplot:xlabel='num-of-doors', ylabel='price'>"
      ]
     },
     "execution_count": 64,
     "metadata": {},
     "output_type": "execute_result"
    },
    {
     "data": {
      "image/png": "[encoded data removed]",
      "text/plain": [
       "<Figure size 640x480 with 1 Axes>"
      ]
     },
     "metadata": {},
     "output_type": "display_data"
    }
   ],
   "source": [
    "sns.boxplot(x=\"num-of-doors\", y=\"price\", data=df)"
   ]
  },
  {
   "cell_type": "code",
   "execution_count": 65,
   "id": "1ff36918",
   "metadata": {},
   "outputs": [
    {
     "data": {
      "text/plain": [
       "<AxesSubplot:xlabel='body-style', ylabel='price'>"
      ]
     },
     "execution_count": 65,
     "metadata": {},
     "output_type": "execute_result"
    },
    {
     "data": {
      "image/png": "[encoded data removed]",
      "text/plain": [
       "<Figure size 640x480 with 1 Axes>"
      ]
     },
     "metadata": {},
     "output_type": "display_data"
    }
   ],
   "source": [
    "sns.boxplot(x=\"body-style\", y=\"price\", data=df)"
   ]
  },
  {
   "cell_type": "code",
   "execution_count": 66,
   "id": "873b3810",
   "metadata": {},
   "outputs": [
    {
     "data": {
      "text/plain": [
       "<AxesSubplot:xlabel='drive-wheels', ylabel='price'>"
      ]
     },
     "execution_count": 66,
     "metadata": {},
     "output_type": "execute_result"
    },
    {
     "data": {
      "image/png": "[encoded data removed]",
      "text/plain": [
       "<Figure size 640x480 with 1 Axes>"
      ]
     },
     "metadata": {},
     "output_type": "display_data"
    }
   ],
   "source": [
    "sns.boxplot(x=\"drive-wheels\", y=\"price\", data=df)"
   ]
  },
  {
   "cell_type": "code",
   "execution_count": 60,
   "id": "46adc2cf",
   "metadata": {},
   "outputs": [
    {
     "data": {
      "text/plain": [
       "<AxesSubplot:xlabel='engine-location', ylabel='price'>"
      ]
     },
     "execution_count": 60,
     "metadata": {},
     "output_type": "execute_result"
    },
    {
     "data": {
      "image/png": "[encoded data removed]",
      "text/plain": [
       "<Figure size 640x480 with 1 Axes>"
      ]
     },
     "metadata": {},
     "output_type": "display_data"
    }
   ],
   "source": [
    "sns.boxplot(x=\"engine-location\", y=\"price\", data=df)"
   ]
  },
  {
   "cell_type": "code",
   "execution_count": 67,
   "id": "b45e3e39",
   "metadata": {},
   "outputs": [
    {
     "data": {
      "text/plain": [
       "<AxesSubplot:xlabel='engine-type', ylabel='price'>"
      ]
     },
     "execution_count": 67,
     "metadata": {},
     "output_type": "execute_result"
    },
    {
     "data": {
      "image/png": "[encoded data removed]",
      "text/plain": [
       "<Figure size 640x480 with 1 Axes>"
      ]
     },
     "metadata": {},
     "output_type": "display_data"
    }
   ],
   "source": [
    "sns.boxplot(x=\"engine-type\", y=\"price\", data=df)"
   ]
  },
  {
   "cell_type": "code",
   "execution_count": 68,
   "id": "71e86a02",
   "metadata": {},
   "outputs": [
    {
     "data": {
      "text/plain": [
       "<AxesSubplot:xlabel='num-of-cylinders', ylabel='price'>"
      ]
     },
     "execution_count": 68,
     "metadata": {},
     "output_type": "execute_result"
    },
    {
     "data": {
      "image/png": "[encoded data removed]",
      "text/plain": [
       "<Figure size 640x480 with 1 Axes>"
      ]
     },
     "metadata": {},
     "output_type": "display_data"
    }
   ],
   "source": [
    "sns.boxplot(x=\"num-of-cylinders\", y=\"price\", data=df)"
   ]
  },
  {
   "cell_type": "code",
   "execution_count": 69,
   "id": "1d5e13f0",
   "metadata": {},
   "outputs": [
    {
     "data": {
      "text/plain": [
       "<AxesSubplot:xlabel='fuel-system', ylabel='price'>"
      ]
     },
     "execution_count": 69,
     "metadata": {},
     "output_type": "execute_result"
    },
    {
     "data": {
      "image/png": "[encoded data removed]",
      "text/plain": [
       "<Figure size 640x480 with 1 Axes>"
      ]
     },
     "metadata": {},
     "output_type": "display_data"
    }
   ],
   "source": [
    "sns.boxplot(x=\"fuel-system\", y=\"price\", data=df)\n"
   ]
  },
  {
   "cell_type": "markdown",
   "id": "1b2ee944",
   "metadata": {},
   "source": [
    "Most of the categorical variables have too much of an overlap in the boxplots for it to be a helpful variable for our regression model. \n",
    "\n",
    "Let's use ANOVA to test the significance of the correlation between price and these variables: \n",
    "* drive-wheels\n",
    "* engine-location"
   ]
  },
  {
   "cell_type": "code",
   "execution_count": 88,
   "id": "b483b1d2",
   "metadata": {},
   "outputs": [],
   "source": [
    "drive_test = df[['drive-wheels','price']].groupby(['drive-wheels'])\n",
    "engine_test = df[['engine-location','price']].groupby(['engine-location'])"
   ]
  },
  {
   "cell_type": "markdown",
   "id": "e28e350d",
   "metadata": {},
   "source": [
    "Let's also obtain the unique entries for both variables."
   ]
  },
  {
   "cell_type": "code",
   "execution_count": 92,
   "id": "2eb730c5",
   "metadata": {},
   "outputs": [
    {
     "data": {
      "text/plain": [
       "drive-wheels\n",
       "4wd    [4wd]\n",
       "fwd    [fwd]\n",
       "rwd    [rwd]\n",
       "Name: drive-wheels, dtype: object"
      ]
     },
     "execution_count": 92,
     "metadata": {},
     "output_type": "execute_result"
    }
   ],
   "source": [
    "drive_test['drive-wheels'].unique()"
   ]
  },
  {
   "cell_type": "code",
   "execution_count": 93,
   "id": "57eca829",
   "metadata": {},
   "outputs": [
    {
     "data": {
      "text/plain": [
       "engine-location\n",
       "front    [front]\n",
       "rear      [rear]\n",
       "Name: engine-location, dtype: object"
      ]
     },
     "execution_count": 93,
     "metadata": {},
     "output_type": "execute_result"
    }
   ],
   "source": [
    "engine_test['engine-location'].unique()"
   ]
  },
  {
   "cell_type": "markdown",
   "id": "ae07ddc3",
   "metadata": {},
   "source": [
    "Now we can obtain the ANOVA results."
   ]
  },
  {
   "cell_type": "code",
   "execution_count": 102,
   "id": "a546f258",
   "metadata": {},
   "outputs": [
    {
     "name": "stdout",
     "output_type": "stream",
     "text": [
      "Drive-wheels ANOVA results:  \n",
      "F-value:  67.95406500780399 \n",
      "P-value:  3.3945443577151245e-23 \n",
      "\n",
      "Engine-location ANOVA results:  \n",
      "F-value:  24.495550318865693 \n",
      "P-value:  1.583490019777699e-06\n"
     ]
    }
   ],
   "source": [
    "drive_fvalue, drive_pvalue = stats.f_oneway(drive_test.get_group('4wd')['price'], drive_test.get_group('fwd')['price'], drive_test.get_group('rwd')['price'])\n",
    "engine_fvalue, engine_pvalue = stats.f_oneway(engine_test.get_group('front')['price'], engine_test.get_group('rear')['price'])\n",
    "\n",
    "print('Drive-wheels ANOVA results: ','\\nF-value: ',drive_fvalue,'\\nP-value: ',drive_pvalue,'\\n')\n",
    "print('Engine-location ANOVA results: ','\\nF-value: ',engine_fvalue,'\\nP-value: ',engine_pvalue)\n"
   ]
  },
  {
   "cell_type": "markdown",
   "id": "7e5a6931",
   "metadata": {},
   "source": [
    "Both variables are statistically significant. But we need to see which categories within drive-wheels we should use for one hot encoding. "
   ]
  },
  {
   "cell_type": "code",
   "execution_count": 101,
   "id": "a498e9ad",
   "metadata": {},
   "outputs": [
    {
     "name": "stdout",
     "output_type": "stream",
     "text": [
      "4wd and fwd:  \n",
      "F-value:  0.665465750252303 \n",
      "P-value:  0.41620116697845666 \n",
      "\n",
      "4wd and rwd:  \n",
      "F-value:  8.580681368924756 \n",
      "P-value:  0.004411492211225333 \n",
      "\n",
      "fwd and rwd:  \n",
      "F-value:  130.5533160959111 \n",
      "P-value:  2.2355306355677845e-23 \n",
      "\n"
     ]
    }
   ],
   "source": [
    "#4wd and fwd\n",
    "fvalue_1, pvalue_1 = stats.f_oneway(drive_test.get_group('4wd')['price'], drive_test.get_group('fwd')['price'])\n",
    "\n",
    "#4wd and rwd\n",
    "fvalue_2, pvalue_2 = stats.f_oneway(drive_test.get_group('4wd')['price'], drive_test.get_group('rwd')['price'])\n",
    "\n",
    "#fwd and rwd\n",
    "fvalue_3, pvalue_3 = stats.f_oneway(drive_test.get_group('fwd')['price'], drive_test.get_group('rwd')['price'])\n",
    "\n",
    "print('4wd and fwd: ', '\\nF-value: ', fvalue_1, '\\nP-value: ', pvalue_1,'\\n')\n",
    "print('4wd and rwd: ', '\\nF-value: ', fvalue_2, '\\nP-value: ', pvalue_2,'\\n')\n",
    "print('fwd and rwd: ', '\\nF-value: ', fvalue_3, '\\nP-value: ', pvalue_3,'\\n')"
   ]
  },
  {
   "cell_type": "markdown",
   "id": "b7241ad0",
   "metadata": {},
   "source": [
    "We can use the **fwd** and **rwd** categories for one hot encoding for the drive-wheel variable, as the difference between the two is statistically significant.\n",
    "\n",
    "Let's transform our two categorical variables by obtaining dummy variables.  "
   ]
  },
  {
   "cell_type": "code",
   "execution_count": 112,
   "id": "137dd6c5",
   "metadata": {},
   "outputs": [],
   "source": [
    "#drive-wheels\n",
    "drive_dummy_var = pd.get_dummies(df['drive-wheels'])\n",
    "drive_dummy_var.drop('4wd', axis = 1, inplace = True)\n",
    "drive_dummy_var.rename(columns = {'fwd':'drive-wheels-fwd','rwd':'drive-wheels-rwd'}, inplace=True)\n",
    "\n",
    "\n",
    "#engine-location\n",
    "engine_dummy_var = pd.get_dummies(df['engine-location'])\n",
    "engine_dummy_var.rename(columns = {'front':'engine-location-front','rear':'engine-location-rear'},inplace=True)"
   ]
  },
  {
   "cell_type": "code",
   "execution_count": 113,
   "id": "4dea555b",
   "metadata": {},
   "outputs": [
    {
     "data": {
      "text/plain": [
       "(   drive-wheels-fwd  drive-wheels-rwd\n",
       " 0                 0                 1\n",
       " 1                 0                 1\n",
       " 2                 0                 1\n",
       " 3                 1                 0\n",
       " 4                 0                 0,\n",
       "    engine-location-front  engine-location-rear\n",
       " 0                      1                     0\n",
       " 1                      1                     0\n",
       " 2                      1                     0\n",
       " 3                      1                     0\n",
       " 4                      1                     0)"
      ]
     },
     "execution_count": 113,
     "metadata": {},
     "output_type": "execute_result"
    }
   ],
   "source": [
    "drive_dummy_var.head(), engine_dummy_var.head()"
   ]
  },
  {
   "cell_type": "markdown",
   "id": "cd66c7f8",
   "metadata": {},
   "source": [
    "Let's add these dummy variables to our original dataframe. "
   ]
  },
  {
   "cell_type": "code",
   "execution_count": 114,
   "id": "001ef2b6",
   "metadata": {},
   "outputs": [
    {
     "data": {
      "text/html": [
       "<div>\n",
       "<style scoped>\n",
       "    .dataframe tbody tr th:only-of-type {\n",
       "        vertical-align: middle;\n",
       "    }\n",
       "\n",
       "    .dataframe tbody tr th {\n",
       "        vertical-align: top;\n",
       "    }\n",
       "\n",
       "    .dataframe thead th {\n",
       "        text-align: right;\n",
       "    }\n",
       "</style>\n",
       "<table border=\"1\" class=\"dataframe\">\n",
       "  <thead>\n",
       "    <tr style=\"text-align: right;\">\n",
       "      <th></th>\n",
       "      <th>symboling</th>\n",
       "      <th>normalized-losses</th>\n",
       "      <th>make</th>\n",
       "      <th>fuel-type</th>\n",
       "      <th>aspiration</th>\n",
       "      <th>num-of-doors</th>\n",
       "      <th>body-style</th>\n",
       "      <th>drive-wheels</th>\n",
       "      <th>engine-location</th>\n",
       "      <th>wheel-base</th>\n",
       "      <th>...</th>\n",
       "      <th>compression-ratio</th>\n",
       "      <th>horsepower</th>\n",
       "      <th>peak-rpm</th>\n",
       "      <th>city-mpg</th>\n",
       "      <th>highway-mpg</th>\n",
       "      <th>price</th>\n",
       "      <th>drive-wheels-fwd</th>\n",
       "      <th>drive-wheels-rwd</th>\n",
       "      <th>engine-location-front</th>\n",
       "      <th>engine-location-rear</th>\n",
       "    </tr>\n",
       "  </thead>\n",
       "  <tbody>\n",
       "    <tr>\n",
       "      <th>0</th>\n",
       "      <td>3</td>\n",
       "      <td>122</td>\n",
       "      <td>alfa-romero</td>\n",
       "      <td>gas</td>\n",
       "      <td>std</td>\n",
       "      <td>two</td>\n",
       "      <td>convertible</td>\n",
       "      <td>rwd</td>\n",
       "      <td>front</td>\n",
       "      <td>88.6</td>\n",
       "      <td>...</td>\n",
       "      <td>9.0</td>\n",
       "      <td>111.0</td>\n",
       "      <td>5000.0</td>\n",
       "      <td>21</td>\n",
       "      <td>27</td>\n",
       "      <td>13495.0</td>\n",
       "      <td>0</td>\n",
       "      <td>1</td>\n",
       "      <td>1</td>\n",
       "      <td>0</td>\n",
       "    </tr>\n",
       "    <tr>\n",
       "      <th>1</th>\n",
       "      <td>3</td>\n",
       "      <td>122</td>\n",
       "      <td>alfa-romero</td>\n",
       "      <td>gas</td>\n",
       "      <td>std</td>\n",
       "      <td>two</td>\n",
       "      <td>convertible</td>\n",
       "      <td>rwd</td>\n",
       "      <td>front</td>\n",
       "      <td>88.6</td>\n",
       "      <td>...</td>\n",
       "      <td>9.0</td>\n",
       "      <td>111.0</td>\n",
       "      <td>5000.0</td>\n",
       "      <td>21</td>\n",
       "      <td>27</td>\n",
       "      <td>16500.0</td>\n",
       "      <td>0</td>\n",
       "      <td>1</td>\n",
       "      <td>1</td>\n",
       "      <td>0</td>\n",
       "    </tr>\n",
       "    <tr>\n",
       "      <th>2</th>\n",
       "      <td>1</td>\n",
       "      <td>122</td>\n",
       "      <td>alfa-romero</td>\n",
       "      <td>gas</td>\n",
       "      <td>std</td>\n",
       "      <td>two</td>\n",
       "      <td>hatchback</td>\n",
       "      <td>rwd</td>\n",
       "      <td>front</td>\n",
       "      <td>94.5</td>\n",
       "      <td>...</td>\n",
       "      <td>9.0</td>\n",
       "      <td>154.0</td>\n",
       "      <td>5000.0</td>\n",
       "      <td>19</td>\n",
       "      <td>26</td>\n",
       "      <td>16500.0</td>\n",
       "      <td>0</td>\n",
       "      <td>1</td>\n",
       "      <td>1</td>\n",
       "      <td>0</td>\n",
       "    </tr>\n",
       "    <tr>\n",
       "      <th>3</th>\n",
       "      <td>2</td>\n",
       "      <td>164</td>\n",
       "      <td>audi</td>\n",
       "      <td>gas</td>\n",
       "      <td>std</td>\n",
       "      <td>four</td>\n",
       "      <td>sedan</td>\n",
       "      <td>fwd</td>\n",
       "      <td>front</td>\n",
       "      <td>99.8</td>\n",
       "      <td>...</td>\n",
       "      <td>10.0</td>\n",
       "      <td>102.0</td>\n",
       "      <td>5500.0</td>\n",
       "      <td>24</td>\n",
       "      <td>30</td>\n",
       "      <td>13950.0</td>\n",
       "      <td>1</td>\n",
       "      <td>0</td>\n",
       "      <td>1</td>\n",
       "      <td>0</td>\n",
       "    </tr>\n",
       "    <tr>\n",
       "      <th>4</th>\n",
       "      <td>2</td>\n",
       "      <td>164</td>\n",
       "      <td>audi</td>\n",
       "      <td>gas</td>\n",
       "      <td>std</td>\n",
       "      <td>four</td>\n",
       "      <td>sedan</td>\n",
       "      <td>4wd</td>\n",
       "      <td>front</td>\n",
       "      <td>99.4</td>\n",
       "      <td>...</td>\n",
       "      <td>8.0</td>\n",
       "      <td>115.0</td>\n",
       "      <td>5500.0</td>\n",
       "      <td>18</td>\n",
       "      <td>22</td>\n",
       "      <td>17450.0</td>\n",
       "      <td>0</td>\n",
       "      <td>0</td>\n",
       "      <td>1</td>\n",
       "      <td>0</td>\n",
       "    </tr>\n",
       "  </tbody>\n",
       "</table>\n",
       "<p>5 rows × 30 columns</p>\n",
       "</div>"
      ],
      "text/plain": [
       "   symboling  normalized-losses         make fuel-type aspiration  \\\n",
       "0          3                122  alfa-romero       gas        std   \n",
       "1          3                122  alfa-romero       gas        std   \n",
       "2          1                122  alfa-romero       gas        std   \n",
       "3          2                164         audi       gas        std   \n",
       "4          2                164         audi       gas        std   \n",
       "\n",
       "  num-of-doors   body-style drive-wheels engine-location  wheel-base  ...  \\\n",
       "0          two  convertible          rwd           front        88.6  ...   \n",
       "1          two  convertible          rwd           front        88.6  ...   \n",
       "2          two    hatchback          rwd           front        94.5  ...   \n",
       "3         four        sedan          fwd           front        99.8  ...   \n",
       "4         four        sedan          4wd           front        99.4  ...   \n",
       "\n",
       "   compression-ratio  horsepower  peak-rpm  city-mpg highway-mpg    price  \\\n",
       "0                9.0       111.0    5000.0        21          27  13495.0   \n",
       "1                9.0       111.0    5000.0        21          27  16500.0   \n",
       "2                9.0       154.0    5000.0        19          26  16500.0   \n",
       "3               10.0       102.0    5500.0        24          30  13950.0   \n",
       "4                8.0       115.0    5500.0        18          22  17450.0   \n",
       "\n",
       "   drive-wheels-fwd drive-wheels-rwd  engine-location-front  \\\n",
       "0                 0                1                      1   \n",
       "1                 0                1                      1   \n",
       "2                 0                1                      1   \n",
       "3                 1                0                      1   \n",
       "4                 0                0                      1   \n",
       "\n",
       "   engine-location-rear  \n",
       "0                     0  \n",
       "1                     0  \n",
       "2                     0  \n",
       "3                     0  \n",
       "4                     0  \n",
       "\n",
       "[5 rows x 30 columns]"
      ]
     },
     "execution_count": 114,
     "metadata": {},
     "output_type": "execute_result"
    }
   ],
   "source": [
    "df = pd.concat([df, drive_dummy_var, engine_dummy_var], axis = 1)\n",
    "df.head()"
   ]
  },
  {
   "cell_type": "markdown",
   "id": "b244ca95",
   "metadata": {},
   "source": [
    "Now our dataset is ready to for our regression analysis. "
   ]
  },
  {
   "cell_type": "markdown",
   "id": "e57d0342",
   "metadata": {},
   "source": [
    "<h3> <a id=\"model_building\" >Phase 2: Model Development and Evaluation</a></h3>\n",
    "\n",
    "To recap, these were the variables that we found to be statistically significant: \n",
    "\n",
    "Numeric Variables\n",
    "1. engine-size\n",
    "2. curb-weight\n",
    "3. horsepower\n",
    "4. width\n",
    "5. highway-mpg \n",
    "\n",
    "Categorical Variables\n",
    "1. drive-wheels (fwd and rwd categories)\n",
    "2. engine-location (front and rear categories)\n",
    "\n",
    "#### Selecting our variables\n",
    "Let's first check for multi-collinearity between the variables."
   ]
  },
  {
   "cell_type": "code",
   "execution_count": 120,
   "id": "a9c70e1d",
   "metadata": {},
   "outputs": [
    {
     "data": {
      "text/html": [
       "<style  type=\"text/css\" >\n",
       "#T_85233258_1031_11ee_815a_843835535a26row0_col0,#T_85233258_1031_11ee_815a_843835535a26row1_col1,#T_85233258_1031_11ee_815a_843835535a26row2_col2,#T_85233258_1031_11ee_815a_843835535a26row3_col3,#T_85233258_1031_11ee_815a_843835535a26row4_col4,#T_85233258_1031_11ee_815a_843835535a26row5_col5,#T_85233258_1031_11ee_815a_843835535a26row6_col6,#T_85233258_1031_11ee_815a_843835535a26row7_col7,#T_85233258_1031_11ee_815a_843835535a26row8_col8,#T_85233258_1031_11ee_815a_843835535a26row9_col9{\n",
       "            background-color:  #b40426;\n",
       "            color:  #f1f1f1;\n",
       "        }#T_85233258_1031_11ee_815a_843835535a26row0_col1{\n",
       "            background-color:  #d1493f;\n",
       "            color:  #f1f1f1;\n",
       "        }#T_85233258_1031_11ee_815a_843835535a26row0_col2{\n",
       "            background-color:  #d65244;\n",
       "            color:  #000000;\n",
       "        }#T_85233258_1031_11ee_815a_843835535a26row0_col3,#T_85233258_1031_11ee_815a_843835535a26row3_col0{\n",
       "            background-color:  #e67259;\n",
       "            color:  #000000;\n",
       "        }#T_85233258_1031_11ee_815a_843835535a26row0_col4,#T_85233258_1031_11ee_815a_843835535a26row3_col4{\n",
       "            background-color:  #4f69d9;\n",
       "            color:  #000000;\n",
       "        }#T_85233258_1031_11ee_815a_843835535a26row0_col5{\n",
       "            background-color:  #80a3fa;\n",
       "            color:  #000000;\n",
       "        }#T_85233258_1031_11ee_815a_843835535a26row0_col6,#T_85233258_1031_11ee_815a_843835535a26row2_col3,#T_85233258_1031_11ee_815a_843835535a26row6_col2{\n",
       "            background-color:  #f29072;\n",
       "            color:  #000000;\n",
       "        }#T_85233258_1031_11ee_815a_843835535a26row0_col7{\n",
       "            background-color:  #c0d4f5;\n",
       "            color:  #000000;\n",
       "        }#T_85233258_1031_11ee_815a_843835535a26row0_col8{\n",
       "            background-color:  #f2cbb7;\n",
       "            color:  #000000;\n",
       "        }#T_85233258_1031_11ee_815a_843835535a26row0_col9,#T_85233258_1031_11ee_815a_843835535a26row3_col1,#T_85233258_1031_11ee_815a_843835535a26row9_col0{\n",
       "            background-color:  #cf453c;\n",
       "            color:  #f1f1f1;\n",
       "        }#T_85233258_1031_11ee_815a_843835535a26row1_col0,#T_85233258_1031_11ee_815a_843835535a26row9_col1{\n",
       "            background-color:  #d44e41;\n",
       "            color:  #000000;\n",
       "        }#T_85233258_1031_11ee_815a_843835535a26row1_col2,#T_85233258_1031_11ee_815a_843835535a26row2_col1{\n",
       "            background-color:  #e0654f;\n",
       "            color:  #000000;\n",
       "        }#T_85233258_1031_11ee_815a_843835535a26row1_col3{\n",
       "            background-color:  #d0473d;\n",
       "            color:  #f1f1f1;\n",
       "        }#T_85233258_1031_11ee_815a_843835535a26row1_col4{\n",
       "            background-color:  #3c4ec2;\n",
       "            color:  #f1f1f1;\n",
       "        }#T_85233258_1031_11ee_815a_843835535a26row1_col5{\n",
       "            background-color:  #6485ec;\n",
       "            color:  #000000;\n",
       "        }#T_85233258_1031_11ee_815a_843835535a26row1_col6{\n",
       "            background-color:  #e8765c;\n",
       "            color:  #000000;\n",
       "        }#T_85233258_1031_11ee_815a_843835535a26row1_col7,#T_85233258_1031_11ee_815a_843835535a26row3_col8{\n",
       "            background-color:  #d6dce4;\n",
       "            color:  #000000;\n",
       "        }#T_85233258_1031_11ee_815a_843835535a26row1_col8,#T_85233258_1031_11ee_815a_843835535a26row3_col7{\n",
       "            background-color:  #e3d9d3;\n",
       "            color:  #000000;\n",
       "        }#T_85233258_1031_11ee_815a_843835535a26row1_col9{\n",
       "            background-color:  #d55042;\n",
       "            color:  #000000;\n",
       "        }#T_85233258_1031_11ee_815a_843835535a26row2_col0,#T_85233258_1031_11ee_815a_843835535a26row9_col2{\n",
       "            background-color:  #d85646;\n",
       "            color:  #000000;\n",
       "        }#T_85233258_1031_11ee_815a_843835535a26row2_col4,#T_85233258_1031_11ee_815a_843835535a26row4_col0,#T_85233258_1031_11ee_815a_843835535a26row4_col1,#T_85233258_1031_11ee_815a_843835535a26row4_col2,#T_85233258_1031_11ee_815a_843835535a26row4_col3,#T_85233258_1031_11ee_815a_843835535a26row4_col9,#T_85233258_1031_11ee_815a_843835535a26row5_col6,#T_85233258_1031_11ee_815a_843835535a26row6_col5,#T_85233258_1031_11ee_815a_843835535a26row7_col8,#T_85233258_1031_11ee_815a_843835535a26row8_col7{\n",
       "            background-color:  #3b4cc0;\n",
       "            color:  #f1f1f1;\n",
       "        }#T_85233258_1031_11ee_815a_843835535a26row2_col5{\n",
       "            background-color:  #7a9df8;\n",
       "            color:  #000000;\n",
       "        }#T_85233258_1031_11ee_815a_843835535a26row2_col6{\n",
       "            background-color:  #f08b6e;\n",
       "            color:  #000000;\n",
       "        }#T_85233258_1031_11ee_815a_843835535a26row2_col7{\n",
       "            background-color:  #a9c6fd;\n",
       "            color:  #000000;\n",
       "        }#T_85233258_1031_11ee_815a_843835535a26row2_col8{\n",
       "            background-color:  #f7b79b;\n",
       "            color:  #000000;\n",
       "        }#T_85233258_1031_11ee_815a_843835535a26row2_col9{\n",
       "            background-color:  #d95847;\n",
       "            color:  #000000;\n",
       "        }#T_85233258_1031_11ee_815a_843835535a26row3_col2,#T_85233258_1031_11ee_815a_843835535a26row4_col5,#T_85233258_1031_11ee_815a_843835535a26row6_col9{\n",
       "            background-color:  #f08a6c;\n",
       "            color:  #000000;\n",
       "        }#T_85233258_1031_11ee_815a_843835535a26row3_col5{\n",
       "            background-color:  #89acfd;\n",
       "            color:  #000000;\n",
       "        }#T_85233258_1031_11ee_815a_843835535a26row3_col6{\n",
       "            background-color:  #f59c7d;\n",
       "            color:  #000000;\n",
       "        }#T_85233258_1031_11ee_815a_843835535a26row3_col9,#T_85233258_1031_11ee_815a_843835535a26row9_col3{\n",
       "            background-color:  #e36b54;\n",
       "            color:  #000000;\n",
       "        }#T_85233258_1031_11ee_815a_843835535a26row4_col6{\n",
       "            background-color:  #7597f6;\n",
       "            color:  #000000;\n",
       "        }#T_85233258_1031_11ee_815a_843835535a26row4_col7{\n",
       "            background-color:  #ead5c9;\n",
       "            color:  #000000;\n",
       "        }#T_85233258_1031_11ee_815a_843835535a26row4_col8{\n",
       "            background-color:  #cedaeb;\n",
       "            color:  #000000;\n",
       "        }#T_85233258_1031_11ee_815a_843835535a26row5_col0{\n",
       "            background-color:  #5977e3;\n",
       "            color:  #000000;\n",
       "        }#T_85233258_1031_11ee_815a_843835535a26row5_col1{\n",
       "            background-color:  #516ddb;\n",
       "            color:  #000000;\n",
       "        }#T_85233258_1031_11ee_815a_843835535a26row5_col2{\n",
       "            background-color:  #688aef;\n",
       "            color:  #000000;\n",
       "        }#T_85233258_1031_11ee_815a_843835535a26row5_col3,#T_85233258_1031_11ee_815a_843835535a26row6_col4{\n",
       "            background-color:  #6384eb;\n",
       "            color:  #000000;\n",
       "        }#T_85233258_1031_11ee_815a_843835535a26row5_col4{\n",
       "            background-color:  #f18f71;\n",
       "            color:  #000000;\n",
       "        }#T_85233258_1031_11ee_815a_843835535a26row5_col7{\n",
       "            background-color:  #edd1c2;\n",
       "            color:  #000000;\n",
       "        }#T_85233258_1031_11ee_815a_843835535a26row5_col8{\n",
       "            background-color:  #c9d7f0;\n",
       "            color:  #000000;\n",
       "        }#T_85233258_1031_11ee_815a_843835535a26row5_col9{\n",
       "            background-color:  #4e68d8;\n",
       "            color:  #000000;\n",
       "        }#T_85233258_1031_11ee_815a_843835535a26row6_col0{\n",
       "            background-color:  #f59f80;\n",
       "            color:  #000000;\n",
       "        }#T_85233258_1031_11ee_815a_843835535a26row6_col1{\n",
       "            background-color:  #ea7b60;\n",
       "            color:  #000000;\n",
       "        }#T_85233258_1031_11ee_815a_843835535a26row6_col3{\n",
       "            background-color:  #f7aa8c;\n",
       "            color:  #000000;\n",
       "        }#T_85233258_1031_11ee_815a_843835535a26row6_col7{\n",
       "            background-color:  #c6d6f1;\n",
       "            color:  #000000;\n",
       "        }#T_85233258_1031_11ee_815a_843835535a26row6_col8{\n",
       "            background-color:  #efcfbf;\n",
       "            color:  #000000;\n",
       "        }#T_85233258_1031_11ee_815a_843835535a26row7_col0{\n",
       "            background-color:  #9abbff;\n",
       "            color:  #000000;\n",
       "        }#T_85233258_1031_11ee_815a_843835535a26row7_col1{\n",
       "            background-color:  #c5d6f2;\n",
       "            color:  #000000;\n",
       "        }#T_85233258_1031_11ee_815a_843835535a26row7_col2{\n",
       "            background-color:  #8fb1fe;\n",
       "            color:  #000000;\n",
       "        }#T_85233258_1031_11ee_815a_843835535a26row7_col3{\n",
       "            background-color:  #cbd8ee;\n",
       "            color:  #000000;\n",
       "        }#T_85233258_1031_11ee_815a_843835535a26row7_col4{\n",
       "            background-color:  #dddcdc;\n",
       "            color:  #000000;\n",
       "        }#T_85233258_1031_11ee_815a_843835535a26row7_col5{\n",
       "            background-color:  #ead4c8;\n",
       "            color:  #000000;\n",
       "        }#T_85233258_1031_11ee_815a_843835535a26row7_col6{\n",
       "            background-color:  #bfd3f6;\n",
       "            color:  #000000;\n",
       "        }#T_85233258_1031_11ee_815a_843835535a26row7_col9{\n",
       "            background-color:  #82a6fb;\n",
       "            color:  #000000;\n",
       "        }#T_85233258_1031_11ee_815a_843835535a26row8_col0{\n",
       "            background-color:  #e2dad5;\n",
       "            color:  #000000;\n",
       "        }#T_85233258_1031_11ee_815a_843835535a26row8_col1{\n",
       "            background-color:  #d5dbe5;\n",
       "            color:  #000000;\n",
       "        }#T_85233258_1031_11ee_815a_843835535a26row8_col2{\n",
       "            background-color:  #f5c1a9;\n",
       "            color:  #000000;\n",
       "        }#T_85233258_1031_11ee_815a_843835535a26row8_col3{\n",
       "            background-color:  #b7cff9;\n",
       "            color:  #000000;\n",
       "        }#T_85233258_1031_11ee_815a_843835535a26row8_col4{\n",
       "            background-color:  #bcd2f7;\n",
       "            color:  #000000;\n",
       "        }#T_85233258_1031_11ee_815a_843835535a26row8_col5{\n",
       "            background-color:  #c1d4f4;\n",
       "            color:  #000000;\n",
       "        }#T_85233258_1031_11ee_815a_843835535a26row8_col6{\n",
       "            background-color:  #ebd3c6;\n",
       "            color:  #000000;\n",
       "        }#T_85233258_1031_11ee_815a_843835535a26row8_col9{\n",
       "            background-color:  #f2c9b4;\n",
       "            color:  #000000;\n",
       "        }#T_85233258_1031_11ee_815a_843835535a26row9_col4{\n",
       "            background-color:  #4b64d5;\n",
       "            color:  #f1f1f1;\n",
       "        }#T_85233258_1031_11ee_815a_843835535a26row9_col5{\n",
       "            background-color:  #7093f3;\n",
       "            color:  #000000;\n",
       "        }#T_85233258_1031_11ee_815a_843835535a26row9_col6{\n",
       "            background-color:  #ec7f63;\n",
       "            color:  #000000;\n",
       "        }#T_85233258_1031_11ee_815a_843835535a26row9_col7{\n",
       "            background-color:  #aac7fd;\n",
       "            color:  #000000;\n",
       "        }#T_85233258_1031_11ee_815a_843835535a26row9_col8{\n",
       "            background-color:  #f7b89c;\n",
       "            color:  #000000;\n",
       "        }</style><table id=\"T_85233258_1031_11ee_815a_843835535a26\" ><thead>    <tr>        <th class=\"blank level0\" ></th>        <th class=\"col_heading level0 col0\" >engine-size</th>        <th class=\"col_heading level0 col1\" >curb-weight</th>        <th class=\"col_heading level0 col2\" >horsepower</th>        <th class=\"col_heading level0 col3\" >width</th>        <th class=\"col_heading level0 col4\" >highway-mpg</th>        <th class=\"col_heading level0 col5\" >drive-wheels-fwd</th>        <th class=\"col_heading level0 col6\" >drive-wheels-rwd</th>        <th class=\"col_heading level0 col7\" >engine-location-front</th>        <th class=\"col_heading level0 col8\" >engine-location-rear</th>        <th class=\"col_heading level0 col9\" >price</th>    </tr></thead><tbody>\n",
       "                <tr>\n",
       "                        <th id=\"T_85233258_1031_11ee_815a_843835535a26level0_row0\" class=\"row_heading level0 row0\" >engine-size</th>\n",
       "                        <td id=\"T_85233258_1031_11ee_815a_843835535a26row0_col0\" class=\"data row0 col0\" >1.000000</td>\n",
       "                        <td id=\"T_85233258_1031_11ee_815a_843835535a26row0_col1\" class=\"data row0 col1\" >0.849072</td>\n",
       "                        <td id=\"T_85233258_1031_11ee_815a_843835535a26row0_col2\" class=\"data row0 col2\" >0.822676</td>\n",
       "                        <td id=\"T_85233258_1031_11ee_815a_843835535a26row0_col3\" class=\"data row0 col3\" >0.729436</td>\n",
       "                        <td id=\"T_85233258_1031_11ee_815a_843835535a26row0_col4\" class=\"data row0 col4\" >-0.679571</td>\n",
       "                        <td id=\"T_85233258_1031_11ee_815a_843835535a26row0_col5\" class=\"data row0 col5\" >-0.511364</td>\n",
       "                        <td id=\"T_85233258_1031_11ee_815a_843835535a26row0_col6\" class=\"data row0 col6\" >0.559063</td>\n",
       "                        <td id=\"T_85233258_1031_11ee_815a_843835535a26row0_col7\" class=\"data row0 col7\" >-0.199367</td>\n",
       "                        <td id=\"T_85233258_1031_11ee_815a_843835535a26row0_col8\" class=\"data row0 col8\" >0.199367</td>\n",
       "                        <td id=\"T_85233258_1031_11ee_815a_843835535a26row0_col9\" class=\"data row0 col9\" >0.872335</td>\n",
       "            </tr>\n",
       "            <tr>\n",
       "                        <th id=\"T_85233258_1031_11ee_815a_843835535a26level0_row1\" class=\"row_heading level0 row1\" >curb-weight</th>\n",
       "                        <td id=\"T_85233258_1031_11ee_815a_843835535a26row1_col0\" class=\"data row1 col0\" >0.849072</td>\n",
       "                        <td id=\"T_85233258_1031_11ee_815a_843835535a26row1_col1\" class=\"data row1 col1\" >1.000000</td>\n",
       "                        <td id=\"T_85233258_1031_11ee_815a_843835535a26row1_col2\" class=\"data row1 col2\" >0.757976</td>\n",
       "                        <td id=\"T_85233258_1031_11ee_815a_843835535a26row1_col3\" class=\"data row1 col3\" >0.866201</td>\n",
       "                        <td id=\"T_85233258_1031_11ee_815a_843835535a26row1_col4\" class=\"data row1 col4\" >-0.794889</td>\n",
       "                        <td id=\"T_85233258_1031_11ee_815a_843835535a26row1_col5\" class=\"data row1 col5\" >-0.658408</td>\n",
       "                        <td id=\"T_85233258_1031_11ee_815a_843835535a26row1_col6\" class=\"data row1 col6\" >0.670611</td>\n",
       "                        <td id=\"T_85233258_1031_11ee_815a_843835535a26row1_col7\" class=\"data row1 col7\" >-0.051287</td>\n",
       "                        <td id=\"T_85233258_1031_11ee_815a_843835535a26row1_col8\" class=\"data row1 col8\" >0.051287</td>\n",
       "                        <td id=\"T_85233258_1031_11ee_815a_843835535a26row1_col9\" class=\"data row1 col9\" >0.834415</td>\n",
       "            </tr>\n",
       "            <tr>\n",
       "                        <th id=\"T_85233258_1031_11ee_815a_843835535a26level0_row2\" class=\"row_heading level0 row2\" >horsepower</th>\n",
       "                        <td id=\"T_85233258_1031_11ee_815a_843835535a26row2_col0\" class=\"data row2 col0\" >0.822676</td>\n",
       "                        <td id=\"T_85233258_1031_11ee_815a_843835535a26row2_col1\" class=\"data row2 col1\" >0.757976</td>\n",
       "                        <td id=\"T_85233258_1031_11ee_815a_843835535a26row2_col2\" class=\"data row2 col2\" >1.000000</td>\n",
       "                        <td id=\"T_85233258_1031_11ee_815a_843835535a26row2_col3\" class=\"data row2 col3\" >0.615077</td>\n",
       "                        <td id=\"T_85233258_1031_11ee_815a_843835535a26row2_col4\" class=\"data row2 col4\" >-0.804575</td>\n",
       "                        <td id=\"T_85233258_1031_11ee_815a_843835535a26row2_col5\" class=\"data row2 col5\" >-0.539040</td>\n",
       "                        <td id=\"T_85233258_1031_11ee_815a_843835535a26row2_col6\" class=\"data row2 col6\" >0.584433</td>\n",
       "                        <td id=\"T_85233258_1031_11ee_815a_843835535a26row2_col7\" class=\"data row2 col7\" >-0.342117</td>\n",
       "                        <td id=\"T_85233258_1031_11ee_815a_843835535a26row2_col8\" class=\"data row2 col8\" >0.342117</td>\n",
       "                        <td id=\"T_85233258_1031_11ee_815a_843835535a26row2_col9\" class=\"data row2 col9\" >0.809575</td>\n",
       "            </tr>\n",
       "            <tr>\n",
       "                        <th id=\"T_85233258_1031_11ee_815a_843835535a26level0_row3\" class=\"row_heading level0 row3\" >width</th>\n",
       "                        <td id=\"T_85233258_1031_11ee_815a_843835535a26row3_col0\" class=\"data row3 col0\" >0.729436</td>\n",
       "                        <td id=\"T_85233258_1031_11ee_815a_843835535a26row3_col1\" class=\"data row3 col1\" >0.866201</td>\n",
       "                        <td id=\"T_85233258_1031_11ee_815a_843835535a26row3_col2\" class=\"data row3 col2\" >0.615077</td>\n",
       "                        <td id=\"T_85233258_1031_11ee_815a_843835535a26row3_col3\" class=\"data row3 col3\" >1.000000</td>\n",
       "                        <td id=\"T_85233258_1031_11ee_815a_843835535a26row3_col4\" class=\"data row3 col4\" >-0.680635</td>\n",
       "                        <td id=\"T_85233258_1031_11ee_815a_843835535a26row3_col5\" class=\"data row3 col5\" >-0.458939</td>\n",
       "                        <td id=\"T_85233258_1031_11ee_815a_843835535a26row3_col6\" class=\"data row3 col6\" >0.507028</td>\n",
       "                        <td id=\"T_85233258_1031_11ee_815a_843835535a26row3_col7\" class=\"data row3 col7\" >0.052205</td>\n",
       "                        <td id=\"T_85233258_1031_11ee_815a_843835535a26row3_col8\" class=\"data row3 col8\" >-0.052205</td>\n",
       "                        <td id=\"T_85233258_1031_11ee_815a_843835535a26row3_col9\" class=\"data row3 col9\" >0.751265</td>\n",
       "            </tr>\n",
       "            <tr>\n",
       "                        <th id=\"T_85233258_1031_11ee_815a_843835535a26level0_row4\" class=\"row_heading level0 row4\" >highway-mpg</th>\n",
       "                        <td id=\"T_85233258_1031_11ee_815a_843835535a26row4_col0\" class=\"data row4 col0\" >-0.679571</td>\n",
       "                        <td id=\"T_85233258_1031_11ee_815a_843835535a26row4_col1\" class=\"data row4 col1\" >-0.794889</td>\n",
       "                        <td id=\"T_85233258_1031_11ee_815a_843835535a26row4_col2\" class=\"data row4 col2\" >-0.804575</td>\n",
       "                        <td id=\"T_85233258_1031_11ee_815a_843835535a26row4_col3\" class=\"data row4 col3\" >-0.680635</td>\n",
       "                        <td id=\"T_85233258_1031_11ee_815a_843835535a26row4_col4\" class=\"data row4 col4\" >1.000000</td>\n",
       "                        <td id=\"T_85233258_1031_11ee_815a_843835535a26row4_col5\" class=\"data row4 col5\" >0.594527</td>\n",
       "                        <td id=\"T_85233258_1031_11ee_815a_843835535a26row4_col6\" class=\"data row4 col6\" >-0.571216</td>\n",
       "                        <td id=\"T_85233258_1031_11ee_815a_843835535a26row4_col7\" class=\"data row4 col7\" >0.102964</td>\n",
       "                        <td id=\"T_85233258_1031_11ee_815a_843835535a26row4_col8\" class=\"data row4 col8\" >-0.102964</td>\n",
       "                        <td id=\"T_85233258_1031_11ee_815a_843835535a26row4_col9\" class=\"data row4 col9\" >-0.704692</td>\n",
       "            </tr>\n",
       "            <tr>\n",
       "                        <th id=\"T_85233258_1031_11ee_815a_843835535a26level0_row5\" class=\"row_heading level0 row5\" >drive-wheels-fwd</th>\n",
       "                        <td id=\"T_85233258_1031_11ee_815a_843835535a26row5_col0\" class=\"data row5 col0\" >-0.511364</td>\n",
       "                        <td id=\"T_85233258_1031_11ee_815a_843835535a26row5_col1\" class=\"data row5 col1\" >-0.658408</td>\n",
       "                        <td id=\"T_85233258_1031_11ee_815a_843835535a26row5_col2\" class=\"data row5 col2\" >-0.539040</td>\n",
       "                        <td id=\"T_85233258_1031_11ee_815a_843835535a26row5_col3\" class=\"data row5 col3\" >-0.458939</td>\n",
       "                        <td id=\"T_85233258_1031_11ee_815a_843835535a26row5_col4\" class=\"data row5 col4\" >0.594527</td>\n",
       "                        <td id=\"T_85233258_1031_11ee_815a_843835535a26row5_col5\" class=\"data row5 col5\" >1.000000</td>\n",
       "                        <td id=\"T_85233258_1031_11ee_815a_843835535a26row5_col6\" class=\"data row5 col6\" >-0.919914</td>\n",
       "                        <td id=\"T_85233258_1031_11ee_815a_843835535a26row5_col7\" class=\"data row5 col7\" >0.146768</td>\n",
       "                        <td id=\"T_85233258_1031_11ee_815a_843835535a26row5_col8\" class=\"data row5 col8\" >-0.146768</td>\n",
       "                        <td id=\"T_85233258_1031_11ee_815a_843835535a26row5_col9\" class=\"data row5 col9\" >-0.595979</td>\n",
       "            </tr>\n",
       "            <tr>\n",
       "                        <th id=\"T_85233258_1031_11ee_815a_843835535a26level0_row6\" class=\"row_heading level0 row6\" >drive-wheels-rwd</th>\n",
       "                        <td id=\"T_85233258_1031_11ee_815a_843835535a26row6_col0\" class=\"data row6 col0\" >0.559063</td>\n",
       "                        <td id=\"T_85233258_1031_11ee_815a_843835535a26row6_col1\" class=\"data row6 col1\" >0.670611</td>\n",
       "                        <td id=\"T_85233258_1031_11ee_815a_843835535a26row6_col2\" class=\"data row6 col2\" >0.584433</td>\n",
       "                        <td id=\"T_85233258_1031_11ee_815a_843835535a26row6_col3\" class=\"data row6 col3\" >0.507028</td>\n",
       "                        <td id=\"T_85233258_1031_11ee_815a_843835535a26row6_col4\" class=\"data row6 col4\" >-0.571216</td>\n",
       "                        <td id=\"T_85233258_1031_11ee_815a_843835535a26row6_col5\" class=\"data row6 col5\" >-0.919914</td>\n",
       "                        <td id=\"T_85233258_1031_11ee_815a_843835535a26row6_col6\" class=\"data row6 col6\" >1.000000</td>\n",
       "                        <td id=\"T_85233258_1031_11ee_815a_843835535a26row6_col7\" class=\"data row6 col7\" >-0.159545</td>\n",
       "                        <td id=\"T_85233258_1031_11ee_815a_843835535a26row6_col8\" class=\"data row6 col8\" >0.159545</td>\n",
       "                        <td id=\"T_85233258_1031_11ee_815a_843835535a26row6_col9\" class=\"data row6 col9\" >0.637522</td>\n",
       "            </tr>\n",
       "            <tr>\n",
       "                        <th id=\"T_85233258_1031_11ee_815a_843835535a26level0_row7\" class=\"row_heading level0 row7\" >engine-location-front</th>\n",
       "                        <td id=\"T_85233258_1031_11ee_815a_843835535a26row7_col0\" class=\"data row7 col0\" >-0.199367</td>\n",
       "                        <td id=\"T_85233258_1031_11ee_815a_843835535a26row7_col1\" class=\"data row7 col1\" >-0.051287</td>\n",
       "                        <td id=\"T_85233258_1031_11ee_815a_843835535a26row7_col2\" class=\"data row7 col2\" >-0.342117</td>\n",
       "                        <td id=\"T_85233258_1031_11ee_815a_843835535a26row7_col3\" class=\"data row7 col3\" >0.052205</td>\n",
       "                        <td id=\"T_85233258_1031_11ee_815a_843835535a26row7_col4\" class=\"data row7 col4\" >0.102964</td>\n",
       "                        <td id=\"T_85233258_1031_11ee_815a_843835535a26row7_col5\" class=\"data row7 col5\" >0.146768</td>\n",
       "                        <td id=\"T_85233258_1031_11ee_815a_843835535a26row7_col6\" class=\"data row7 col6\" >-0.159545</td>\n",
       "                        <td id=\"T_85233258_1031_11ee_815a_843835535a26row7_col7\" class=\"data row7 col7\" >1.000000</td>\n",
       "                        <td id=\"T_85233258_1031_11ee_815a_843835535a26row7_col8\" class=\"data row7 col8\" >-1.000000</td>\n",
       "                        <td id=\"T_85233258_1031_11ee_815a_843835535a26row7_col9\" class=\"data row7 col9\" >-0.331062</td>\n",
       "            </tr>\n",
       "            <tr>\n",
       "                        <th id=\"T_85233258_1031_11ee_815a_843835535a26level0_row8\" class=\"row_heading level0 row8\" >engine-location-rear</th>\n",
       "                        <td id=\"T_85233258_1031_11ee_815a_843835535a26row8_col0\" class=\"data row8 col0\" >0.199367</td>\n",
       "                        <td id=\"T_85233258_1031_11ee_815a_843835535a26row8_col1\" class=\"data row8 col1\" >0.051287</td>\n",
       "                        <td id=\"T_85233258_1031_11ee_815a_843835535a26row8_col2\" class=\"data row8 col2\" >0.342117</td>\n",
       "                        <td id=\"T_85233258_1031_11ee_815a_843835535a26row8_col3\" class=\"data row8 col3\" >-0.052205</td>\n",
       "                        <td id=\"T_85233258_1031_11ee_815a_843835535a26row8_col4\" class=\"data row8 col4\" >-0.102964</td>\n",
       "                        <td id=\"T_85233258_1031_11ee_815a_843835535a26row8_col5\" class=\"data row8 col5\" >-0.146768</td>\n",
       "                        <td id=\"T_85233258_1031_11ee_815a_843835535a26row8_col6\" class=\"data row8 col6\" >0.159545</td>\n",
       "                        <td id=\"T_85233258_1031_11ee_815a_843835535a26row8_col7\" class=\"data row8 col7\" >-1.000000</td>\n",
       "                        <td id=\"T_85233258_1031_11ee_815a_843835535a26row8_col8\" class=\"data row8 col8\" >1.000000</td>\n",
       "                        <td id=\"T_85233258_1031_11ee_815a_843835535a26row8_col9\" class=\"data row8 col9\" >0.331062</td>\n",
       "            </tr>\n",
       "            <tr>\n",
       "                        <th id=\"T_85233258_1031_11ee_815a_843835535a26level0_row9\" class=\"row_heading level0 row9\" >price</th>\n",
       "                        <td id=\"T_85233258_1031_11ee_815a_843835535a26row9_col0\" class=\"data row9 col0\" >0.872335</td>\n",
       "                        <td id=\"T_85233258_1031_11ee_815a_843835535a26row9_col1\" class=\"data row9 col1\" >0.834415</td>\n",
       "                        <td id=\"T_85233258_1031_11ee_815a_843835535a26row9_col2\" class=\"data row9 col2\" >0.809575</td>\n",
       "                        <td id=\"T_85233258_1031_11ee_815a_843835535a26row9_col3\" class=\"data row9 col3\" >0.751265</td>\n",
       "                        <td id=\"T_85233258_1031_11ee_815a_843835535a26row9_col4\" class=\"data row9 col4\" >-0.704692</td>\n",
       "                        <td id=\"T_85233258_1031_11ee_815a_843835535a26row9_col5\" class=\"data row9 col5\" >-0.595979</td>\n",
       "                        <td id=\"T_85233258_1031_11ee_815a_843835535a26row9_col6\" class=\"data row9 col6\" >0.637522</td>\n",
       "                        <td id=\"T_85233258_1031_11ee_815a_843835535a26row9_col7\" class=\"data row9 col7\" >-0.331062</td>\n",
       "                        <td id=\"T_85233258_1031_11ee_815a_843835535a26row9_col8\" class=\"data row9 col8\" >0.331062</td>\n",
       "                        <td id=\"T_85233258_1031_11ee_815a_843835535a26row9_col9\" class=\"data row9 col9\" >1.000000</td>\n",
       "            </tr>\n",
       "    </tbody></table>"
      ],
      "text/plain": [
       "<pandas.io.formats.style.Styler at 0x7fbd9a765430>"
      ]
     },
     "execution_count": 120,
     "metadata": {},
     "output_type": "execute_result"
    }
   ],
   "source": [
    "df_model = df[['engine-size','curb-weight','horsepower','width','highway-mpg','drive-wheels-fwd', \n",
    "               'drive-wheels-rwd', 'engine-location-front','engine-location-rear','price']]\n",
    "corr = df_model.corr()\n",
    "corr.style.background_gradient(cmap='coolwarm')"
   ]
  },
  {
   "cell_type": "markdown",
   "id": "39a0f700",
   "metadata": {},
   "source": [
    "As we can see from the correlation, we actually don't need to include drive-wheels and engine-location anymore as they are not very highly correlated with the price after one hot encoding. Let's remove those two and check the multi-collinearity again. "
   ]
  },
  {
   "cell_type": "code",
   "execution_count": 121,
   "id": "299ff94d",
   "metadata": {},
   "outputs": [
    {
     "data": {
      "text/html": [
       "<style  type=\"text/css\" >\n",
       "#T_dd4bc4ae_1031_11ee_815a_843835535a26row0_col0,#T_dd4bc4ae_1031_11ee_815a_843835535a26row1_col1,#T_dd4bc4ae_1031_11ee_815a_843835535a26row2_col2,#T_dd4bc4ae_1031_11ee_815a_843835535a26row3_col3,#T_dd4bc4ae_1031_11ee_815a_843835535a26row4_col4,#T_dd4bc4ae_1031_11ee_815a_843835535a26row5_col5{\n",
       "            background-color:  #b40426;\n",
       "            color:  #f1f1f1;\n",
       "        }#T_dd4bc4ae_1031_11ee_815a_843835535a26row0_col1{\n",
       "            background-color:  #d1493f;\n",
       "            color:  #f1f1f1;\n",
       "        }#T_dd4bc4ae_1031_11ee_815a_843835535a26row0_col2{\n",
       "            background-color:  #d65244;\n",
       "            color:  #000000;\n",
       "        }#T_dd4bc4ae_1031_11ee_815a_843835535a26row0_col3,#T_dd4bc4ae_1031_11ee_815a_843835535a26row3_col0{\n",
       "            background-color:  #e67259;\n",
       "            color:  #000000;\n",
       "        }#T_dd4bc4ae_1031_11ee_815a_843835535a26row0_col4,#T_dd4bc4ae_1031_11ee_815a_843835535a26row3_col4{\n",
       "            background-color:  #4f69d9;\n",
       "            color:  #000000;\n",
       "        }#T_dd4bc4ae_1031_11ee_815a_843835535a26row0_col5,#T_dd4bc4ae_1031_11ee_815a_843835535a26row3_col1,#T_dd4bc4ae_1031_11ee_815a_843835535a26row5_col0{\n",
       "            background-color:  #cf453c;\n",
       "            color:  #f1f1f1;\n",
       "        }#T_dd4bc4ae_1031_11ee_815a_843835535a26row1_col0,#T_dd4bc4ae_1031_11ee_815a_843835535a26row5_col1{\n",
       "            background-color:  #d44e41;\n",
       "            color:  #000000;\n",
       "        }#T_dd4bc4ae_1031_11ee_815a_843835535a26row1_col2,#T_dd4bc4ae_1031_11ee_815a_843835535a26row2_col1{\n",
       "            background-color:  #e0654f;\n",
       "            color:  #000000;\n",
       "        }#T_dd4bc4ae_1031_11ee_815a_843835535a26row1_col3{\n",
       "            background-color:  #d0473d;\n",
       "            color:  #f1f1f1;\n",
       "        }#T_dd4bc4ae_1031_11ee_815a_843835535a26row1_col4{\n",
       "            background-color:  #3c4ec2;\n",
       "            color:  #f1f1f1;\n",
       "        }#T_dd4bc4ae_1031_11ee_815a_843835535a26row1_col5{\n",
       "            background-color:  #d55042;\n",
       "            color:  #000000;\n",
       "        }#T_dd4bc4ae_1031_11ee_815a_843835535a26row2_col0,#T_dd4bc4ae_1031_11ee_815a_843835535a26row5_col2{\n",
       "            background-color:  #d85646;\n",
       "            color:  #000000;\n",
       "        }#T_dd4bc4ae_1031_11ee_815a_843835535a26row2_col3{\n",
       "            background-color:  #f29072;\n",
       "            color:  #000000;\n",
       "        }#T_dd4bc4ae_1031_11ee_815a_843835535a26row2_col4,#T_dd4bc4ae_1031_11ee_815a_843835535a26row4_col0,#T_dd4bc4ae_1031_11ee_815a_843835535a26row4_col1,#T_dd4bc4ae_1031_11ee_815a_843835535a26row4_col2,#T_dd4bc4ae_1031_11ee_815a_843835535a26row4_col3,#T_dd4bc4ae_1031_11ee_815a_843835535a26row4_col5{\n",
       "            background-color:  #3b4cc0;\n",
       "            color:  #f1f1f1;\n",
       "        }#T_dd4bc4ae_1031_11ee_815a_843835535a26row2_col5{\n",
       "            background-color:  #d95847;\n",
       "            color:  #000000;\n",
       "        }#T_dd4bc4ae_1031_11ee_815a_843835535a26row3_col2{\n",
       "            background-color:  #f08a6c;\n",
       "            color:  #000000;\n",
       "        }#T_dd4bc4ae_1031_11ee_815a_843835535a26row3_col5,#T_dd4bc4ae_1031_11ee_815a_843835535a26row5_col3{\n",
       "            background-color:  #e36b54;\n",
       "            color:  #000000;\n",
       "        }#T_dd4bc4ae_1031_11ee_815a_843835535a26row5_col4{\n",
       "            background-color:  #4b64d5;\n",
       "            color:  #f1f1f1;\n",
       "        }</style><table id=\"T_dd4bc4ae_1031_11ee_815a_843835535a26\" ><thead>    <tr>        <th class=\"blank level0\" ></th>        <th class=\"col_heading level0 col0\" >engine-size</th>        <th class=\"col_heading level0 col1\" >curb-weight</th>        <th class=\"col_heading level0 col2\" >horsepower</th>        <th class=\"col_heading level0 col3\" >width</th>        <th class=\"col_heading level0 col4\" >highway-mpg</th>        <th class=\"col_heading level0 col5\" >price</th>    </tr></thead><tbody>\n",
       "                <tr>\n",
       "                        <th id=\"T_dd4bc4ae_1031_11ee_815a_843835535a26level0_row0\" class=\"row_heading level0 row0\" >engine-size</th>\n",
       "                        <td id=\"T_dd4bc4ae_1031_11ee_815a_843835535a26row0_col0\" class=\"data row0 col0\" >1.000000</td>\n",
       "                        <td id=\"T_dd4bc4ae_1031_11ee_815a_843835535a26row0_col1\" class=\"data row0 col1\" >0.849072</td>\n",
       "                        <td id=\"T_dd4bc4ae_1031_11ee_815a_843835535a26row0_col2\" class=\"data row0 col2\" >0.822676</td>\n",
       "                        <td id=\"T_dd4bc4ae_1031_11ee_815a_843835535a26row0_col3\" class=\"data row0 col3\" >0.729436</td>\n",
       "                        <td id=\"T_dd4bc4ae_1031_11ee_815a_843835535a26row0_col4\" class=\"data row0 col4\" >-0.679571</td>\n",
       "                        <td id=\"T_dd4bc4ae_1031_11ee_815a_843835535a26row0_col5\" class=\"data row0 col5\" >0.872335</td>\n",
       "            </tr>\n",
       "            <tr>\n",
       "                        <th id=\"T_dd4bc4ae_1031_11ee_815a_843835535a26level0_row1\" class=\"row_heading level0 row1\" >curb-weight</th>\n",
       "                        <td id=\"T_dd4bc4ae_1031_11ee_815a_843835535a26row1_col0\" class=\"data row1 col0\" >0.849072</td>\n",
       "                        <td id=\"T_dd4bc4ae_1031_11ee_815a_843835535a26row1_col1\" class=\"data row1 col1\" >1.000000</td>\n",
       "                        <td id=\"T_dd4bc4ae_1031_11ee_815a_843835535a26row1_col2\" class=\"data row1 col2\" >0.757976</td>\n",
       "                        <td id=\"T_dd4bc4ae_1031_11ee_815a_843835535a26row1_col3\" class=\"data row1 col3\" >0.866201</td>\n",
       "                        <td id=\"T_dd4bc4ae_1031_11ee_815a_843835535a26row1_col4\" class=\"data row1 col4\" >-0.794889</td>\n",
       "                        <td id=\"T_dd4bc4ae_1031_11ee_815a_843835535a26row1_col5\" class=\"data row1 col5\" >0.834415</td>\n",
       "            </tr>\n",
       "            <tr>\n",
       "                        <th id=\"T_dd4bc4ae_1031_11ee_815a_843835535a26level0_row2\" class=\"row_heading level0 row2\" >horsepower</th>\n",
       "                        <td id=\"T_dd4bc4ae_1031_11ee_815a_843835535a26row2_col0\" class=\"data row2 col0\" >0.822676</td>\n",
       "                        <td id=\"T_dd4bc4ae_1031_11ee_815a_843835535a26row2_col1\" class=\"data row2 col1\" >0.757976</td>\n",
       "                        <td id=\"T_dd4bc4ae_1031_11ee_815a_843835535a26row2_col2\" class=\"data row2 col2\" >1.000000</td>\n",
       "                        <td id=\"T_dd4bc4ae_1031_11ee_815a_843835535a26row2_col3\" class=\"data row2 col3\" >0.615077</td>\n",
       "                        <td id=\"T_dd4bc4ae_1031_11ee_815a_843835535a26row2_col4\" class=\"data row2 col4\" >-0.804575</td>\n",
       "                        <td id=\"T_dd4bc4ae_1031_11ee_815a_843835535a26row2_col5\" class=\"data row2 col5\" >0.809575</td>\n",
       "            </tr>\n",
       "            <tr>\n",
       "                        <th id=\"T_dd4bc4ae_1031_11ee_815a_843835535a26level0_row3\" class=\"row_heading level0 row3\" >width</th>\n",
       "                        <td id=\"T_dd4bc4ae_1031_11ee_815a_843835535a26row3_col0\" class=\"data row3 col0\" >0.729436</td>\n",
       "                        <td id=\"T_dd4bc4ae_1031_11ee_815a_843835535a26row3_col1\" class=\"data row3 col1\" >0.866201</td>\n",
       "                        <td id=\"T_dd4bc4ae_1031_11ee_815a_843835535a26row3_col2\" class=\"data row3 col2\" >0.615077</td>\n",
       "                        <td id=\"T_dd4bc4ae_1031_11ee_815a_843835535a26row3_col3\" class=\"data row3 col3\" >1.000000</td>\n",
       "                        <td id=\"T_dd4bc4ae_1031_11ee_815a_843835535a26row3_col4\" class=\"data row3 col4\" >-0.680635</td>\n",
       "                        <td id=\"T_dd4bc4ae_1031_11ee_815a_843835535a26row3_col5\" class=\"data row3 col5\" >0.751265</td>\n",
       "            </tr>\n",
       "            <tr>\n",
       "                        <th id=\"T_dd4bc4ae_1031_11ee_815a_843835535a26level0_row4\" class=\"row_heading level0 row4\" >highway-mpg</th>\n",
       "                        <td id=\"T_dd4bc4ae_1031_11ee_815a_843835535a26row4_col0\" class=\"data row4 col0\" >-0.679571</td>\n",
       "                        <td id=\"T_dd4bc4ae_1031_11ee_815a_843835535a26row4_col1\" class=\"data row4 col1\" >-0.794889</td>\n",
       "                        <td id=\"T_dd4bc4ae_1031_11ee_815a_843835535a26row4_col2\" class=\"data row4 col2\" >-0.804575</td>\n",
       "                        <td id=\"T_dd4bc4ae_1031_11ee_815a_843835535a26row4_col3\" class=\"data row4 col3\" >-0.680635</td>\n",
       "                        <td id=\"T_dd4bc4ae_1031_11ee_815a_843835535a26row4_col4\" class=\"data row4 col4\" >1.000000</td>\n",
       "                        <td id=\"T_dd4bc4ae_1031_11ee_815a_843835535a26row4_col5\" class=\"data row4 col5\" >-0.704692</td>\n",
       "            </tr>\n",
       "            <tr>\n",
       "                        <th id=\"T_dd4bc4ae_1031_11ee_815a_843835535a26level0_row5\" class=\"row_heading level0 row5\" >price</th>\n",
       "                        <td id=\"T_dd4bc4ae_1031_11ee_815a_843835535a26row5_col0\" class=\"data row5 col0\" >0.872335</td>\n",
       "                        <td id=\"T_dd4bc4ae_1031_11ee_815a_843835535a26row5_col1\" class=\"data row5 col1\" >0.834415</td>\n",
       "                        <td id=\"T_dd4bc4ae_1031_11ee_815a_843835535a26row5_col2\" class=\"data row5 col2\" >0.809575</td>\n",
       "                        <td id=\"T_dd4bc4ae_1031_11ee_815a_843835535a26row5_col3\" class=\"data row5 col3\" >0.751265</td>\n",
       "                        <td id=\"T_dd4bc4ae_1031_11ee_815a_843835535a26row5_col4\" class=\"data row5 col4\" >-0.704692</td>\n",
       "                        <td id=\"T_dd4bc4ae_1031_11ee_815a_843835535a26row5_col5\" class=\"data row5 col5\" >1.000000</td>\n",
       "            </tr>\n",
       "    </tbody></table>"
      ],
      "text/plain": [
       "<pandas.io.formats.style.Styler at 0x7fbd7f013bb0>"
      ]
     },
     "execution_count": 121,
     "metadata": {},
     "output_type": "execute_result"
    }
   ],
   "source": [
    "df_model = df[['engine-size','curb-weight','horsepower','width','highway-mpg','price']]\n",
    "corr = df_model.corr()\n",
    "corr.style.background_gradient(cmap='coolwarm')"
   ]
  },
  {
   "cell_type": "markdown",
   "id": "c198ae7c",
   "metadata": {},
   "source": [
    "Let's also compute the Variance Inflation Factor(VIF) to get more information on the multi-collinearity. "
   ]
  },
  {
   "cell_type": "code",
   "execution_count": 123,
   "id": "7e8e46a7",
   "metadata": {},
   "outputs": [
    {
     "data": {
      "text/html": [
       "<div>\n",
       "<style scoped>\n",
       "    .dataframe tbody tr th:only-of-type {\n",
       "        vertical-align: middle;\n",
       "    }\n",
       "\n",
       "    .dataframe tbody tr th {\n",
       "        vertical-align: top;\n",
       "    }\n",
       "\n",
       "    .dataframe thead th {\n",
       "        text-align: right;\n",
       "    }\n",
       "</style>\n",
       "<table border=\"1\" class=\"dataframe\">\n",
       "  <thead>\n",
       "    <tr style=\"text-align: right;\">\n",
       "      <th></th>\n",
       "      <th>features</th>\n",
       "      <th>vif_Factor</th>\n",
       "    </tr>\n",
       "  </thead>\n",
       "  <tbody>\n",
       "    <tr>\n",
       "      <th>0</th>\n",
       "      <td>engine-size</td>\n",
       "      <td>55.814128</td>\n",
       "    </tr>\n",
       "    <tr>\n",
       "      <th>1</th>\n",
       "      <td>curb-weight</td>\n",
       "      <td>184.185154</td>\n",
       "    </tr>\n",
       "    <tr>\n",
       "      <th>2</th>\n",
       "      <td>horsepower</td>\n",
       "      <td>39.817689</td>\n",
       "    </tr>\n",
       "    <tr>\n",
       "      <th>3</th>\n",
       "      <td>width</td>\n",
       "      <td>370.454528</td>\n",
       "    </tr>\n",
       "    <tr>\n",
       "      <th>4</th>\n",
       "      <td>highway-mpg</td>\n",
       "      <td>78.318877</td>\n",
       "    </tr>\n",
       "  </tbody>\n",
       "</table>\n",
       "</div>"
      ],
      "text/plain": [
       "      features  vif_Factor\n",
       "0  engine-size   55.814128\n",
       "1  curb-weight  184.185154\n",
       "2   horsepower   39.817689\n",
       "3        width  370.454528\n",
       "4  highway-mpg   78.318877"
      ]
     },
     "execution_count": 123,
     "metadata": {},
     "output_type": "execute_result"
    }
   ],
   "source": [
    "#Compute VIF data for each independent variable\n",
    "from statsmodels.stats.outliers_influence import variance_inflation_factor\n",
    "df_model_noprice = df[['engine-size','curb-weight','horsepower','width','highway-mpg']]\n",
    "\n",
    "vif = pd.DataFrame()\n",
    "vif[\"features\"] = df_model_noprice.columns\n",
    "vif[\"vif_Factor\"] = [variance_inflation_factor(df_model_noprice.values, i) for i in range(df_model_noprice.shape[1])]\n",
    "vif"
   ]
  },
  {
   "cell_type": "markdown",
   "id": "2d0ae926",
   "metadata": {},
   "source": [
    "Let's try and remove some variables to reduce the collinearity. \n",
    "\n",
    "We need to keep engine-size and curb-weight as they are most highly correlated with price. So we should observe how removing horsepower, width, and highway-mpg (one at a time) impacts our VIF. "
   ]
  },
  {
   "cell_type": "markdown",
   "id": "ad8fc738",
   "metadata": {},
   "source": [
    "#### VIF without highway-mpg"
   ]
  },
  {
   "cell_type": "code",
   "execution_count": 124,
   "id": "f72fb44e",
   "metadata": {},
   "outputs": [
    {
     "data": {
      "text/html": [
       "<div>\n",
       "<style scoped>\n",
       "    .dataframe tbody tr th:only-of-type {\n",
       "        vertical-align: middle;\n",
       "    }\n",
       "\n",
       "    .dataframe tbody tr th {\n",
       "        vertical-align: top;\n",
       "    }\n",
       "\n",
       "    .dataframe thead th {\n",
       "        text-align: right;\n",
       "    }\n",
       "</style>\n",
       "<table border=\"1\" class=\"dataframe\">\n",
       "  <thead>\n",
       "    <tr style=\"text-align: right;\">\n",
       "      <th></th>\n",
       "      <th>features</th>\n",
       "      <th>vif_Factor</th>\n",
       "    </tr>\n",
       "  </thead>\n",
       "  <tbody>\n",
       "    <tr>\n",
       "      <th>0</th>\n",
       "      <td>engine-size</td>\n",
       "      <td>50.727300</td>\n",
       "    </tr>\n",
       "    <tr>\n",
       "      <th>1</th>\n",
       "      <td>curb-weight</td>\n",
       "      <td>110.067638</td>\n",
       "    </tr>\n",
       "    <tr>\n",
       "      <th>2</th>\n",
       "      <td>horsepower</td>\n",
       "      <td>28.070134</td>\n",
       "    </tr>\n",
       "    <tr>\n",
       "      <th>3</th>\n",
       "      <td>width</td>\n",
       "      <td>40.579772</td>\n",
       "    </tr>\n",
       "  </tbody>\n",
       "</table>\n",
       "</div>"
      ],
      "text/plain": [
       "      features  vif_Factor\n",
       "0  engine-size   50.727300\n",
       "1  curb-weight  110.067638\n",
       "2   horsepower   28.070134\n",
       "3        width   40.579772"
      ]
     },
     "execution_count": 124,
     "metadata": {},
     "output_type": "execute_result"
    }
   ],
   "source": [
    "df_model_noprice = df[['engine-size','curb-weight','horsepower','width']]\n",
    "                       \n",
    "vif = pd.DataFrame()\n",
    "vif[\"features\"] = df_model_noprice.columns\n",
    "vif[\"vif_Factor\"] = [variance_inflation_factor(df_model_noprice.values, i) for i in range(df_model_noprice.shape[1])]\n",
    "vif"
   ]
  },
  {
   "cell_type": "markdown",
   "id": "e365fcae",
   "metadata": {},
   "source": [
    "#### VIF without width"
   ]
  },
  {
   "cell_type": "code",
   "execution_count": 125,
   "id": "fbe2f14e",
   "metadata": {},
   "outputs": [
    {
     "data": {
      "text/html": [
       "<div>\n",
       "<style scoped>\n",
       "    .dataframe tbody tr th:only-of-type {\n",
       "        vertical-align: middle;\n",
       "    }\n",
       "\n",
       "    .dataframe tbody tr th {\n",
       "        vertical-align: top;\n",
       "    }\n",
       "\n",
       "    .dataframe thead th {\n",
       "        text-align: right;\n",
       "    }\n",
       "</style>\n",
       "<table border=\"1\" class=\"dataframe\">\n",
       "  <thead>\n",
       "    <tr style=\"text-align: right;\">\n",
       "      <th></th>\n",
       "      <th>features</th>\n",
       "      <th>vif_Factor</th>\n",
       "    </tr>\n",
       "  </thead>\n",
       "  <tbody>\n",
       "    <tr>\n",
       "      <th>0</th>\n",
       "      <td>engine-size</td>\n",
       "      <td>47.936409</td>\n",
       "    </tr>\n",
       "    <tr>\n",
       "      <th>1</th>\n",
       "      <td>curb-weight</td>\n",
       "      <td>62.580062</td>\n",
       "    </tr>\n",
       "    <tr>\n",
       "      <th>2</th>\n",
       "      <td>horsepower</td>\n",
       "      <td>30.386515</td>\n",
       "    </tr>\n",
       "    <tr>\n",
       "      <th>3</th>\n",
       "      <td>highway-mpg</td>\n",
       "      <td>8.579089</td>\n",
       "    </tr>\n",
       "  </tbody>\n",
       "</table>\n",
       "</div>"
      ],
      "text/plain": [
       "      features  vif_Factor\n",
       "0  engine-size   47.936409\n",
       "1  curb-weight   62.580062\n",
       "2   horsepower   30.386515\n",
       "3  highway-mpg    8.579089"
      ]
     },
     "execution_count": 125,
     "metadata": {},
     "output_type": "execute_result"
    }
   ],
   "source": [
    "df_model_noprice = df[['engine-size','curb-weight','horsepower','highway-mpg']]\n",
    "                       \n",
    "vif = pd.DataFrame()\n",
    "vif[\"features\"] = df_model_noprice.columns\n",
    "vif[\"vif_Factor\"] = [variance_inflation_factor(df_model_noprice.values, i) for i in range(df_model_noprice.shape[1])]\n",
    "vif"
   ]
  },
  {
   "cell_type": "markdown",
   "id": "b7f201ba",
   "metadata": {},
   "source": [
    "#### VIF without horsepower"
   ]
  },
  {
   "cell_type": "code",
   "execution_count": 126,
   "id": "aa35af0e",
   "metadata": {},
   "outputs": [
    {
     "data": {
      "text/html": [
       "<div>\n",
       "<style scoped>\n",
       "    .dataframe tbody tr th:only-of-type {\n",
       "        vertical-align: middle;\n",
       "    }\n",
       "\n",
       "    .dataframe tbody tr th {\n",
       "        vertical-align: top;\n",
       "    }\n",
       "\n",
       "    .dataframe thead th {\n",
       "        text-align: right;\n",
       "    }\n",
       "</style>\n",
       "<table border=\"1\" class=\"dataframe\">\n",
       "  <thead>\n",
       "    <tr style=\"text-align: right;\">\n",
       "      <th></th>\n",
       "      <th>features</th>\n",
       "      <th>vif_Factor</th>\n",
       "    </tr>\n",
       "  </thead>\n",
       "  <tbody>\n",
       "    <tr>\n",
       "      <th>0</th>\n",
       "      <td>engine-size</td>\n",
       "      <td>37.186381</td>\n",
       "    </tr>\n",
       "    <tr>\n",
       "      <th>1</th>\n",
       "      <td>curb-weight</td>\n",
       "      <td>175.783836</td>\n",
       "    </tr>\n",
       "    <tr>\n",
       "      <th>2</th>\n",
       "      <td>highway-mpg</td>\n",
       "      <td>55.212179</td>\n",
       "    </tr>\n",
       "    <tr>\n",
       "      <th>3</th>\n",
       "      <td>width</td>\n",
       "      <td>282.709074</td>\n",
       "    </tr>\n",
       "  </tbody>\n",
       "</table>\n",
       "</div>"
      ],
      "text/plain": [
       "      features  vif_Factor\n",
       "0  engine-size   37.186381\n",
       "1  curb-weight  175.783836\n",
       "2  highway-mpg   55.212179\n",
       "3        width  282.709074"
      ]
     },
     "execution_count": 126,
     "metadata": {},
     "output_type": "execute_result"
    }
   ],
   "source": [
    "df_model_noprice = df[['engine-size','curb-weight','highway-mpg','width']]\n",
    "                       \n",
    "vif = pd.DataFrame()\n",
    "vif[\"features\"] = df_model_noprice.columns\n",
    "vif[\"vif_Factor\"] = [variance_inflation_factor(df_model_noprice.values, i) for i in range(df_model_noprice.shape[1])]\n",
    "vif"
   ]
  },
  {
   "cell_type": "markdown",
   "id": "ffc91006",
   "metadata": {},
   "source": [
    "Removing width has the greatest impact on the VIF, but our model still has significant multi-collinearity. \n",
    "The most important variables for our model are: \n",
    "\n",
    "1. engine-size\n",
    "2. curb-weight\n",
    "3. horsepower\n",
    "4. highway-mpg \n",
    "\n",
    "Since we are developing a model with multiple variables that deal with multi-collinearity, a **ridge regression** model will be best to help us predict price accurately. \n",
    "\n",
    "We can also try to test a **polynomial regression** model to see how well it predicts the price. "
   ]
  },
  {
   "cell_type": "markdown",
   "id": "681b0b07",
   "metadata": {},
   "source": [
    "#### Ridge Regression\n",
    "\n"
   ]
  },
  {
   "cell_type": "code",
   "execution_count": 127,
   "id": "f1b3f27e",
   "metadata": {},
   "outputs": [],
   "source": [
    "df_model = df[['engine-size','curb-weight','horsepower','highway-mpg','price']]\n",
    "\n",
    "#select our independent variables and our dependent variable\n",
    "y = df_model['price']\n",
    "x = df_model.drop('price',axis=1)\n",
    "\n",
    "#split our data into train and test datasets\n",
    "\n",
    "x_train, x_test, y_train, y_test = train_test_split(x, y, test_size = 0.3, random_state = 1)"
   ]
  },
  {
   "cell_type": "markdown",
   "id": "7412a9c8",
   "metadata": {},
   "source": [
    "Now we can use Grid Search to find the best alpha for our Ridge Regression model. "
   ]
  },
  {
   "cell_type": "code",
   "execution_count": 287,
   "id": "04f6b421",
   "metadata": {},
   "outputs": [
    {
     "data": {
      "text/plain": [
       "Ridge(alpha=14285.715000000002)"
      ]
     },
     "execution_count": 287,
     "metadata": {},
     "output_type": "execute_result"
    }
   ],
   "source": [
    "from sklearn.model_selection import GridSearchCV\n",
    "from sklearn.linear_model import Ridge\n",
    "\n",
    "#select potential parameters\n",
    "parameters = [{'alpha':np.linspace(0.001,50000)}]\n",
    "\n",
    "#create ridge regression object\n",
    "RR = Ridge()\n",
    "\n",
    "#create ridge grid search object\n",
    "Grid = GridSearchCV(RR, parameters, cv=4)\n",
    "\n",
    "#train the model\n",
    "Grid.fit(x_train, y_train)\n",
    "\n",
    "#find the Ridge Regression Model with the best value for alpha\n",
    "Best_RR = Grid.best_estimator_\n",
    "Best_RR"
   ]
  },
  {
   "cell_type": "markdown",
   "id": "26e2f804",
   "metadata": {},
   "source": [
    "Let's now test how good our model is using our test data by finding the R-squared value. "
   ]
  },
  {
   "cell_type": "code",
   "execution_count": 288,
   "id": "eb9b6676",
   "metadata": {},
   "outputs": [
    {
     "data": {
      "text/plain": [
       "0.7833787906541944"
      ]
     },
     "execution_count": 288,
     "metadata": {},
     "output_type": "execute_result"
    }
   ],
   "source": [
    "Best_RR.score(x_test,y_test)"
   ]
  },
  {
   "cell_type": "markdown",
   "id": "2b1c2174",
   "metadata": {},
   "source": [
    "This Ridge regression model predicts **78.3%** of the variation in the price."
   ]
  },
  {
   "cell_type": "markdown",
   "id": "53311019",
   "metadata": {},
   "source": [
    "Let's plot the distribution of the predicted values vs. the actual values to see how well our Ridge Regression model predicts price. \n",
    "\n",
    "First, we will predict new values using our Ridge Regression Model. "
   ]
  },
  {
   "cell_type": "code",
   "execution_count": 132,
   "id": "1489d165",
   "metadata": {},
   "outputs": [],
   "source": [
    "y_hat = Best_RR.predict(x_test)"
   ]
  },
  {
   "cell_type": "markdown",
   "id": "f11394d0",
   "metadata": {},
   "source": [
    "Now, we can plot the predicted values vs. the actual values. "
   ]
  },
  {
   "cell_type": "code",
   "execution_count": 238,
   "id": "67db7f77",
   "metadata": {},
   "outputs": [],
   "source": [
    "def DistributionPlot(RedFunction, BlueFunction, RedName, BlueName, Title):\n",
    "    width = 6\n",
    "    height = 4\n",
    "    plt.figure(figsize=(width, height))\n",
    "\n",
    "    ax1 = sns.distplot(RedFunction, hist=False, color=\"r\", label=RedName)\n",
    "    ax2 = sns.distplot(BlueFunction, hist=False, color=\"b\", label=BlueName, ax=ax1)\n",
    "\n",
    "    plt.title(Title)\n",
    "    plt.xlabel('Price (in dollars)')\n",
    "    plt.ylabel('Proportion of Cars')\n",
    "    plt.legend()\n",
    "\n",
    "    plt.show()\n",
    "    plt.close()"
   ]
  },
  {
   "cell_type": "code",
   "execution_count": 239,
   "id": "73bc1f3b",
   "metadata": {},
   "outputs": [
    {
     "name": "stderr",
     "output_type": "stream",
     "text": [
      "/Users/Nduta/opt/anaconda3/lib/python3.9/site-packages/seaborn/distributions.py:2619: FutureWarning: `distplot` is a deprecated function and will be removed in a future version. Please adapt your code to use either `displot` (a figure-level function with similar flexibility) or `kdeplot` (an axes-level function for kernel density plots).\n",
      "  warnings.warn(msg, FutureWarning)\n",
      "/Users/Nduta/opt/anaconda3/lib/python3.9/site-packages/seaborn/distributions.py:2619: FutureWarning: `distplot` is a deprecated function and will be removed in a future version. Please adapt your code to use either `displot` (a figure-level function with similar flexibility) or `kdeplot` (an axes-level function for kernel density plots).\n",
      "  warnings.warn(msg, FutureWarning)\n"
     ]
    },
    {
     "data": {
      "image/png": "[encoded data removed]",
      "text/plain": [
       "<Figure size 600x400 with 1 Axes>"
      ]
     },
     "metadata": {},
     "output_type": "display_data"
    }
   ],
   "source": [
    "Title = 'Distribution of Predicted Test Output vs. Actual Test Data'\n",
    "DistributionPlot(y_test, y_hat, \"Actual Test Data\",'Predicted Test Values', Title)"
   ]
  },
  {
   "cell_type": "markdown",
   "id": "3a396e48",
   "metadata": {},
   "source": [
    "This is not bad, but let's try and compare this to a ridge regression model with polynomial features of 2 degrees. \n",
    "\n",
    "#### Ridge Regression with Polynomial Features\n",
    "\n",
    "We first want to normalize the data before we use it to train our model. We can use a `Pipeline()` object for this."
   ]
  },
  {
   "cell_type": "code",
   "execution_count": 283,
   "id": "39abceda",
   "metadata": {},
   "outputs": [
    {
     "data": {
      "text/plain": [
       "Pipeline(steps=[('scale', StandardScaler()),\n",
       "                ('polynomial', PolynomialFeatures()),\n",
       "                ('mode', Ridge(alpha=23.5))])"
      ]
     },
     "execution_count": 283,
     "metadata": {},
     "output_type": "execute_result"
    }
   ],
   "source": [
    "from sklearn.pipeline import Pipeline\n",
    "#set parameters for the Grid Search\n",
    "parameters2 = [{'alpha':np.linspace(23,24)}]\n",
    "\n",
    "#set the steps in the pipeline \n",
    "Input = [('scale',StandardScaler()),('polynomial',PolynomialFeatures(degree=2)),\n",
    "         ('mode',Ridge(23.5))]\n",
    "\n",
    "#Create the Pipeline object with the steps specified above. \n",
    "pipe = Pipeline(Input)\n",
    "\n",
    "#Train the model\n",
    "pipe.fit(x_train,y_train)\n"
   ]
  },
  {
   "cell_type": "markdown",
   "id": "b3b0928c",
   "metadata": {},
   "source": [
    "Let's now see how good our model is at predicting the price. "
   ]
  },
  {
   "cell_type": "code",
   "execution_count": 284,
   "id": "01bfe41d",
   "metadata": {},
   "outputs": [
    {
     "data": {
      "text/plain": [
       "0.8096400651583092"
      ]
     },
     "execution_count": 284,
     "metadata": {},
     "output_type": "execute_result"
    }
   ],
   "source": [
    "#get the R-squared score\n",
    "pipe.score(x_test,y_test)"
   ]
  },
  {
   "cell_type": "markdown",
   "id": "eeffa5d2",
   "metadata": {},
   "source": [
    "This Polynomial Ridge regression model predicts about **80.9%** of the variation in the price. This model is a better predictor of price than our other model. \n",
    "\n",
    "Let's plot the predicted values vs. the actual values. "
   ]
  },
  {
   "cell_type": "code",
   "execution_count": 285,
   "id": "977742a7",
   "metadata": {},
   "outputs": [
    {
     "name": "stderr",
     "output_type": "stream",
     "text": [
      "/Users/Nduta/opt/anaconda3/lib/python3.9/site-packages/seaborn/distributions.py:2619: FutureWarning: `distplot` is a deprecated function and will be removed in a future version. Please adapt your code to use either `displot` (a figure-level function with similar flexibility) or `kdeplot` (an axes-level function for kernel density plots).\n",
      "  warnings.warn(msg, FutureWarning)\n",
      "/Users/Nduta/opt/anaconda3/lib/python3.9/site-packages/seaborn/distributions.py:2619: FutureWarning: `distplot` is a deprecated function and will be removed in a future version. Please adapt your code to use either `displot` (a figure-level function with similar flexibility) or `kdeplot` (an axes-level function for kernel density plots).\n",
      "  warnings.warn(msg, FutureWarning)\n"
     ]
    },
    {
     "data": {
      "image/png": "[encoded data removed]",
      "text/plain": [
       "<Figure size 600x400 with 1 Axes>"
      ]
     },
     "metadata": {},
     "output_type": "display_data"
    }
   ],
   "source": [
    "#predicted values\n",
    "yhat = pipe.predict(x_test)\n",
    "\n",
    "#plot the graph\n",
    "Title = 'Distribution of Predicted Test Output vs. Actual Test Data'\n",
    "DistributionPlot(y_test, y_hat, \"Actual Test Data\",'Predicted Test Values', Title)"
   ]
  },
  {
   "cell_type": "markdown",
   "id": "4a1a73dc",
   "metadata": {},
   "source": [
    "<h2> <a id=\"conclusion\" >Conclusion</a></h2>\n",
    "\n",
    "The model that best is the best predictor of the price of cars (based on our dataset) is a <u>Ridge Regression model with Polynomial Features of Degree 2.</u> "
   ]
  },
  {
   "cell_type": "markdown",
   "id": "5bcae8b8",
   "metadata": {},
   "source": [
    "Here are the coefficients of our model. "
   ]
  },
  {
   "cell_type": "code",
   "execution_count": 296,
   "id": "d077e47d",
   "metadata": {},
   "outputs": [
    {
     "data": {
      "text/html": [
       "<div>\n",
       "<style scoped>\n",
       "    .dataframe tbody tr th:only-of-type {\n",
       "        vertical-align: middle;\n",
       "    }\n",
       "\n",
       "    .dataframe tbody tr th {\n",
       "        vertical-align: top;\n",
       "    }\n",
       "\n",
       "    .dataframe thead th {\n",
       "        text-align: right;\n",
       "    }\n",
       "</style>\n",
       "<table border=\"1\" class=\"dataframe\">\n",
       "  <thead>\n",
       "    <tr style=\"text-align: right;\">\n",
       "      <th></th>\n",
       "      <th>0</th>\n",
       "      <th>Coefficient Estimate</th>\n",
       "    </tr>\n",
       "  </thead>\n",
       "  <tbody>\n",
       "    <tr>\n",
       "      <th>0</th>\n",
       "      <td>1</td>\n",
       "      <td>0.000000</td>\n",
       "    </tr>\n",
       "    <tr>\n",
       "      <th>1</th>\n",
       "      <td>engine-size</td>\n",
       "      <td>2110.825677</td>\n",
       "    </tr>\n",
       "    <tr>\n",
       "      <th>2</th>\n",
       "      <td>curb-weight</td>\n",
       "      <td>1540.581333</td>\n",
       "    </tr>\n",
       "    <tr>\n",
       "      <th>3</th>\n",
       "      <td>horsepower</td>\n",
       "      <td>1824.161096</td>\n",
       "    </tr>\n",
       "    <tr>\n",
       "      <th>4</th>\n",
       "      <td>highway-mpg</td>\n",
       "      <td>-1180.750967</td>\n",
       "    </tr>\n",
       "    <tr>\n",
       "      <th>5</th>\n",
       "      <td>engine-size^2</td>\n",
       "      <td>424.678258</td>\n",
       "    </tr>\n",
       "    <tr>\n",
       "      <th>6</th>\n",
       "      <td>engine-size curb-weight</td>\n",
       "      <td>418.057768</td>\n",
       "    </tr>\n",
       "    <tr>\n",
       "      <th>7</th>\n",
       "      <td>engine-size horsepower</td>\n",
       "      <td>-626.718253</td>\n",
       "    </tr>\n",
       "    <tr>\n",
       "      <th>8</th>\n",
       "      <td>engine-size highway-mpg</td>\n",
       "      <td>-385.444960</td>\n",
       "    </tr>\n",
       "    <tr>\n",
       "      <th>9</th>\n",
       "      <td>curb-weight^2</td>\n",
       "      <td>444.674757</td>\n",
       "    </tr>\n",
       "    <tr>\n",
       "      <th>10</th>\n",
       "      <td>curb-weight horsepower</td>\n",
       "      <td>-1299.399767</td>\n",
       "    </tr>\n",
       "    <tr>\n",
       "      <th>11</th>\n",
       "      <td>curb-weight highway-mpg</td>\n",
       "      <td>57.670790</td>\n",
       "    </tr>\n",
       "    <tr>\n",
       "      <th>12</th>\n",
       "      <td>horsepower^2</td>\n",
       "      <td>793.987654</td>\n",
       "    </tr>\n",
       "    <tr>\n",
       "      <th>13</th>\n",
       "      <td>horsepower highway-mpg</td>\n",
       "      <td>-75.388364</td>\n",
       "    </tr>\n",
       "    <tr>\n",
       "      <th>14</th>\n",
       "      <td>highway-mpg^2</td>\n",
       "      <td>422.073679</td>\n",
       "    </tr>\n",
       "  </tbody>\n",
       "</table>\n",
       "</div>"
      ],
      "text/plain": [
       "                          0  Coefficient Estimate\n",
       "0                         1              0.000000\n",
       "1               engine-size           2110.825677\n",
       "2               curb-weight           1540.581333\n",
       "3                horsepower           1824.161096\n",
       "4               highway-mpg          -1180.750967\n",
       "5             engine-size^2            424.678258\n",
       "6   engine-size curb-weight            418.057768\n",
       "7    engine-size horsepower           -626.718253\n",
       "8   engine-size highway-mpg           -385.444960\n",
       "9             curb-weight^2            444.674757\n",
       "10   curb-weight horsepower          -1299.399767\n",
       "11  curb-weight highway-mpg             57.670790\n",
       "12             horsepower^2            793.987654\n",
       "13   horsepower highway-mpg            -75.388364\n",
       "14            highway-mpg^2            422.073679"
      ]
     },
     "execution_count": 296,
     "metadata": {},
     "output_type": "execute_result"
    }
   ],
   "source": [
    "coef = pd.DataFrame(pipe.named_steps['polynomial'].get_feature_names_out(['engine-size','curb-weight','horsepower','highway-mpg']))\n",
    "coef['Coefficient Estimate'] = pipe.named_steps['mode'].coef_\n",
    "\n",
    "coef"
   ]
  },
  {
   "cell_type": "markdown",
   "id": "b65002f2",
   "metadata": {},
   "source": [
    "Here is our intercept for our model. "
   ]
  },
  {
   "cell_type": "code",
   "execution_count": 290,
   "id": "e62268ee",
   "metadata": {},
   "outputs": [
    {
     "data": {
      "text/plain": [
       "12201.180241261101"
      ]
     },
     "execution_count": 290,
     "metadata": {},
     "output_type": "execute_result"
    }
   ],
   "source": [
    "pipe.named_steps['mode'].intercept_"
   ]
  },
  {
   "cell_type": "markdown",
   "id": "5f3776bf",
   "metadata": {},
   "source": [
    "Thank you for taking the time to view my predictive modelling project!"
   ]
  }
 ],
 "metadata": {
  "kernelspec": {
   "display_name": "Python 3 (ipykernel)",
   "language": "python",
   "name": "python3"
  },
  "language_info": {
   "codemirror_mode": {
    "name": "ipython",
    "version": 3
   },
   "file_extension": ".py",
   "mimetype": "text/x-python",
   "name": "python",
   "nbconvert_exporter": "python",
   "pygments_lexer": "ipython3",
   "version": "3.9.13"
  }
 },
 "nbformat": 4,
 "nbformat_minor": 5
}
